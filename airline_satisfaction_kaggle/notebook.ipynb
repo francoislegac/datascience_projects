{
 "cells": [
  {
   "cell_type": "code",
   "execution_count": 11,
   "metadata": {},
   "outputs": [],
   "source": [
    "import pandas as pd\n",
    "import numpy as np\n",
    "import matplotlib.pyplot as plt\n",
    "import seaborn as sns\n",
    "\n",
    "\n",
    "%matplotlib inline"
   ]
  },
  {
   "cell_type": "markdown",
   "metadata": {},
   "source": [
    "# Airline passenger satisfaction\n",
    "\n",
    "Context:\n",
    "https://www.kaggle.com/teejmahal20/airline-passenger-satisfaction\n",
    "\n",
    "This dataset contains an airline passenger satisfaction survey. What factors are highly correlated to a satisfied (or dissatisfied) passenger? Can you predict passenger satisfaction?\n",
    "\n"
   ]
  },
  {
   "cell_type": "markdown",
   "metadata": {},
   "source": [
    "# I. EDA\n",
    "\n",
    "## DATASET DESCRIPTION\n",
    "- Where does the dataset comes from: US Airline passenger satisfaction survey (no more explonations?) <font color='red'>which company etc ??</font>\n",
    "- train: (103904, 24)\n",
    "- test: (25976, 24)\n",
    "- Dependent variable y: satisfaction "
   ]
  },
  {
   "cell_type": "code",
   "execution_count": 12,
   "metadata": {},
   "outputs": [],
   "source": [
    "#loading the train set\n",
    "raw_train = pd.read_csv('train.csv', \n",
    "                        index_col=0,\n",
    "                        dtype= {   \n",
    "                        'Gender':'category',\n",
    "                        'Customer Type':'category',\n",
    "                        'Type of Travel':'category',\n",
    "                        'Class':'category',\n",
    "                        'Inflight wifi service':'int64',\n",
    "                        'Departure/Arrival time convenient':'int64',\n",
    "                        'Ease of Online booking':'int64',\n",
    "                        'Gate location':'int64',\n",
    "                        'Food and drink':'int64',\n",
    "                        'Online boarding':'int64',\n",
    "                        'Seat comfort':'int64',\n",
    "                        'Inflight entertainment':'int64',\n",
    "                        'On-board service':'int64',\n",
    "                        'Leg room service':'int64',\n",
    "                        'Baggage handling':'int64',\n",
    "                        'Checkin service':'int64',\n",
    "                        'Inflight service':'int64',\n",
    "                        'Cleanliness':'int64',\n",
    "                        'Arrival Delay in Minutes':'float64',\n",
    "                        'Departure Delay in Minutes': 'float64',\n",
    "                        'satisfaction':'category'\n",
    "                        }\n",
    "                       )\n",
    "#loading the test set\n",
    "raw_test = pd.read_csv('test.csv', \n",
    "                        index_col=0,\n",
    "                        dtype= {   \n",
    "                        'Gender':'category',\n",
    "                        'Customer Type':'category',\n",
    "                        'Type of Travel':'category',\n",
    "                        'Class':'category',\n",
    "                        'Inflight wifi service':'int64',\n",
    "                        'Departure/Arrival time convenient':'int64',\n",
    "                        'Ease of Online booking':'int64',\n",
    "                        'Gate location':'int64',\n",
    "                        'Food and drink':'int64',\n",
    "                        'Online boarding':'int64',\n",
    "                        'Seat comfort':'int64',\n",
    "                        'Inflight entertainment':'int64',\n",
    "                        'On-board service':'int64',\n",
    "                        'Leg room service':'int64',\n",
    "                        'Baggage handling':'int64',\n",
    "                        'Checkin service':'int64',\n",
    "                        'Inflight service':'int64',\n",
    "                        'Cleanliness':'int64',\n",
    "                        'Arrival Delay in Minutes':'float64',\n",
    "                        'Departure Delay in Minutes': 'float64',\n",
    "                        'satisfaction':'category'\n",
    "                        }\n",
    "                       )\n",
    "#We combine both datasets for some analysis\n",
    "raw_df = pd.concat([raw_train, raw_test], axis=0)\n",
    "\n",
    "#we record the id and the idx:\n",
    "idx_train = raw_train.index\n",
    "idx_test = raw_test.index"
   ]
  },
  {
   "cell_type": "code",
   "execution_count": 13,
   "metadata": {},
   "outputs": [
    {
     "name": "stdout",
     "output_type": "stream",
     "text": [
      "(103904, 24) (25976, 24)\n"
     ]
    }
   ],
   "source": [
    "print(raw_train.shape, raw_test.shape)"
   ]
  },
  {
   "cell_type": "code",
   "execution_count": 14,
   "metadata": {},
   "outputs": [
    {
     "data": {
      "text/plain": [
       "id                                      int64\n",
       "Gender                               category\n",
       "Customer Type                        category\n",
       "Age                                     int64\n",
       "Type of Travel                       category\n",
       "Class                                category\n",
       "Flight Distance                         int64\n",
       "Inflight wifi service                   int64\n",
       "Departure/Arrival time convenient       int64\n",
       "Ease of Online booking                  int64\n",
       "Gate location                           int64\n",
       "Food and drink                          int64\n",
       "Online boarding                         int64\n",
       "Seat comfort                            int64\n",
       "Inflight entertainment                  int64\n",
       "On-board service                        int64\n",
       "Leg room service                        int64\n",
       "Baggage handling                        int64\n",
       "Checkin service                         int64\n",
       "Inflight service                        int64\n",
       "Cleanliness                             int64\n",
       "Departure Delay in Minutes            float64\n",
       "Arrival Delay in Minutes              float64\n",
       "satisfaction                         category\n",
       "dtype: object"
      ]
     },
     "execution_count": 14,
     "metadata": {},
     "output_type": "execute_result"
    }
   ],
   "source": [
    "#quick check\n",
    "raw_df.dtypes"
   ]
  },
  {
   "cell_type": "markdown",
   "metadata": {},
   "source": [
    "## VARIABLE DESCRIPTION\n",
    "\n",
    "https://docs.google.com/spreadsheets/d/1bJZmSWa618q4gXTbbeCLH9Dvv2Zmrz0lArizsj4NQe8/edit#gid=241349301\n",
    "\n",
    "\n",
    "Let's try do guess which variables are the most likely to be important in the prediction:\n",
    "Personally, I would have said:\n",
    "- Departure and arrival delays\n",
    "- On-board service\n",
    "- Baggage handling\n",
    "- Type of travel\n"
   ]
  },
  {
   "cell_type": "code",
   "execution_count": 15,
   "metadata": {},
   "outputs": [
    {
     "data": {
      "text/html": [
       "<div>\n",
       "<style scoped>\n",
       "    .dataframe tbody tr th:only-of-type {\n",
       "        vertical-align: middle;\n",
       "    }\n",
       "\n",
       "    .dataframe tbody tr th {\n",
       "        vertical-align: top;\n",
       "    }\n",
       "\n",
       "    .dataframe thead th {\n",
       "        text-align: right;\n",
       "    }\n",
       "</style>\n",
       "<table border=\"1\" class=\"dataframe\">\n",
       "  <thead>\n",
       "    <tr style=\"text-align: right;\">\n",
       "      <th></th>\n",
       "      <th>id</th>\n",
       "      <th>Gender</th>\n",
       "      <th>Customer Type</th>\n",
       "      <th>Age</th>\n",
       "      <th>Type of Travel</th>\n",
       "      <th>Class</th>\n",
       "      <th>Flight Distance</th>\n",
       "      <th>Inflight wifi service</th>\n",
       "      <th>Departure/Arrival time convenient</th>\n",
       "      <th>Ease of Online booking</th>\n",
       "      <th>...</th>\n",
       "      <th>Inflight entertainment</th>\n",
       "      <th>On-board service</th>\n",
       "      <th>Leg room service</th>\n",
       "      <th>Baggage handling</th>\n",
       "      <th>Checkin service</th>\n",
       "      <th>Inflight service</th>\n",
       "      <th>Cleanliness</th>\n",
       "      <th>Departure Delay in Minutes</th>\n",
       "      <th>Arrival Delay in Minutes</th>\n",
       "      <th>satisfaction</th>\n",
       "    </tr>\n",
       "  </thead>\n",
       "  <tbody>\n",
       "    <tr>\n",
       "      <th>0</th>\n",
       "      <td>70172</td>\n",
       "      <td>Male</td>\n",
       "      <td>Loyal Customer</td>\n",
       "      <td>13</td>\n",
       "      <td>Personal Travel</td>\n",
       "      <td>Eco Plus</td>\n",
       "      <td>460</td>\n",
       "      <td>3</td>\n",
       "      <td>4</td>\n",
       "      <td>3</td>\n",
       "      <td>...</td>\n",
       "      <td>5</td>\n",
       "      <td>4</td>\n",
       "      <td>3</td>\n",
       "      <td>4</td>\n",
       "      <td>4</td>\n",
       "      <td>5</td>\n",
       "      <td>5</td>\n",
       "      <td>25.0</td>\n",
       "      <td>18.0</td>\n",
       "      <td>neutral or dissatisfied</td>\n",
       "    </tr>\n",
       "    <tr>\n",
       "      <th>1</th>\n",
       "      <td>5047</td>\n",
       "      <td>Male</td>\n",
       "      <td>disloyal Customer</td>\n",
       "      <td>25</td>\n",
       "      <td>Business travel</td>\n",
       "      <td>Business</td>\n",
       "      <td>235</td>\n",
       "      <td>3</td>\n",
       "      <td>2</td>\n",
       "      <td>3</td>\n",
       "      <td>...</td>\n",
       "      <td>1</td>\n",
       "      <td>1</td>\n",
       "      <td>5</td>\n",
       "      <td>3</td>\n",
       "      <td>1</td>\n",
       "      <td>4</td>\n",
       "      <td>1</td>\n",
       "      <td>1.0</td>\n",
       "      <td>6.0</td>\n",
       "      <td>neutral or dissatisfied</td>\n",
       "    </tr>\n",
       "    <tr>\n",
       "      <th>2</th>\n",
       "      <td>110028</td>\n",
       "      <td>Female</td>\n",
       "      <td>Loyal Customer</td>\n",
       "      <td>26</td>\n",
       "      <td>Business travel</td>\n",
       "      <td>Business</td>\n",
       "      <td>1142</td>\n",
       "      <td>2</td>\n",
       "      <td>2</td>\n",
       "      <td>2</td>\n",
       "      <td>...</td>\n",
       "      <td>5</td>\n",
       "      <td>4</td>\n",
       "      <td>3</td>\n",
       "      <td>4</td>\n",
       "      <td>4</td>\n",
       "      <td>4</td>\n",
       "      <td>5</td>\n",
       "      <td>0.0</td>\n",
       "      <td>0.0</td>\n",
       "      <td>satisfied</td>\n",
       "    </tr>\n",
       "    <tr>\n",
       "      <th>3</th>\n",
       "      <td>24026</td>\n",
       "      <td>Female</td>\n",
       "      <td>Loyal Customer</td>\n",
       "      <td>25</td>\n",
       "      <td>Business travel</td>\n",
       "      <td>Business</td>\n",
       "      <td>562</td>\n",
       "      <td>2</td>\n",
       "      <td>5</td>\n",
       "      <td>5</td>\n",
       "      <td>...</td>\n",
       "      <td>2</td>\n",
       "      <td>2</td>\n",
       "      <td>5</td>\n",
       "      <td>3</td>\n",
       "      <td>1</td>\n",
       "      <td>4</td>\n",
       "      <td>2</td>\n",
       "      <td>11.0</td>\n",
       "      <td>9.0</td>\n",
       "      <td>neutral or dissatisfied</td>\n",
       "    </tr>\n",
       "    <tr>\n",
       "      <th>4</th>\n",
       "      <td>119299</td>\n",
       "      <td>Male</td>\n",
       "      <td>Loyal Customer</td>\n",
       "      <td>61</td>\n",
       "      <td>Business travel</td>\n",
       "      <td>Business</td>\n",
       "      <td>214</td>\n",
       "      <td>3</td>\n",
       "      <td>3</td>\n",
       "      <td>3</td>\n",
       "      <td>...</td>\n",
       "      <td>3</td>\n",
       "      <td>3</td>\n",
       "      <td>4</td>\n",
       "      <td>4</td>\n",
       "      <td>3</td>\n",
       "      <td>3</td>\n",
       "      <td>3</td>\n",
       "      <td>0.0</td>\n",
       "      <td>0.0</td>\n",
       "      <td>satisfied</td>\n",
       "    </tr>\n",
       "  </tbody>\n",
       "</table>\n",
       "<p>5 rows × 24 columns</p>\n",
       "</div>"
      ],
      "text/plain": [
       "       id  Gender      Customer Type  Age   Type of Travel     Class  \\\n",
       "0   70172    Male     Loyal Customer   13  Personal Travel  Eco Plus   \n",
       "1    5047    Male  disloyal Customer   25  Business travel  Business   \n",
       "2  110028  Female     Loyal Customer   26  Business travel  Business   \n",
       "3   24026  Female     Loyal Customer   25  Business travel  Business   \n",
       "4  119299    Male     Loyal Customer   61  Business travel  Business   \n",
       "\n",
       "   Flight Distance  Inflight wifi service  Departure/Arrival time convenient  \\\n",
       "0              460                      3                                  4   \n",
       "1              235                      3                                  2   \n",
       "2             1142                      2                                  2   \n",
       "3              562                      2                                  5   \n",
       "4              214                      3                                  3   \n",
       "\n",
       "   Ease of Online booking  ...  Inflight entertainment  On-board service  \\\n",
       "0                       3  ...                       5                 4   \n",
       "1                       3  ...                       1                 1   \n",
       "2                       2  ...                       5                 4   \n",
       "3                       5  ...                       2                 2   \n",
       "4                       3  ...                       3                 3   \n",
       "\n",
       "   Leg room service  Baggage handling  Checkin service  Inflight service  \\\n",
       "0                 3                 4                4                 5   \n",
       "1                 5                 3                1                 4   \n",
       "2                 3                 4                4                 4   \n",
       "3                 5                 3                1                 4   \n",
       "4                 4                 4                3                 3   \n",
       "\n",
       "   Cleanliness  Departure Delay in Minutes  Arrival Delay in Minutes  \\\n",
       "0            5                        25.0                      18.0   \n",
       "1            1                         1.0                       6.0   \n",
       "2            5                         0.0                       0.0   \n",
       "3            2                        11.0                       9.0   \n",
       "4            3                         0.0                       0.0   \n",
       "\n",
       "              satisfaction  \n",
       "0  neutral or dissatisfied  \n",
       "1  neutral or dissatisfied  \n",
       "2                satisfied  \n",
       "3  neutral or dissatisfied  \n",
       "4                satisfied  \n",
       "\n",
       "[5 rows x 24 columns]"
      ]
     },
     "execution_count": 15,
     "metadata": {},
     "output_type": "execute_result"
    }
   ],
   "source": [
    "raw_train.head()"
   ]
  },
  {
   "cell_type": "markdown",
   "metadata": {},
   "source": [
    "## MISSING VALUES"
   ]
  },
  {
   "cell_type": "code",
   "execution_count": 16,
   "metadata": {},
   "outputs": [
    {
     "data": {
      "text/html": [
       "<div>\n",
       "<style scoped>\n",
       "    .dataframe tbody tr th:only-of-type {\n",
       "        vertical-align: middle;\n",
       "    }\n",
       "\n",
       "    .dataframe tbody tr th {\n",
       "        vertical-align: top;\n",
       "    }\n",
       "\n",
       "    .dataframe thead th {\n",
       "        text-align: right;\n",
       "    }\n",
       "</style>\n",
       "<table border=\"1\" class=\"dataframe\">\n",
       "  <thead>\n",
       "    <tr style=\"text-align: right;\">\n",
       "      <th></th>\n",
       "      <th>Total</th>\n",
       "      <th>Percent</th>\n",
       "    </tr>\n",
       "  </thead>\n",
       "  <tbody>\n",
       "    <tr>\n",
       "      <th>Arrival Delay in Minutes</th>\n",
       "      <td>393</td>\n",
       "      <td>100.0</td>\n",
       "    </tr>\n",
       "  </tbody>\n",
       "</table>\n",
       "</div>"
      ],
      "text/plain": [
       "                          Total  Percent\n",
       "Arrival Delay in Minutes    393    100.0"
      ]
     },
     "execution_count": 16,
     "metadata": {},
     "output_type": "execute_result"
    }
   ],
   "source": [
    "total = raw_df.isna().sum().sort_values(ascending=False)\n",
    "percent = total / total.sum() * 100\n",
    "pd.concat([total[total >0], percent[percent >0]], axis=1, keys= ['Total', 'Percent'])"
   ]
  },
  {
   "cell_type": "markdown",
   "metadata": {},
   "source": [
    "Only one variable 'Arrival Delay in Minutes' contains missing values. Precisely, it contains 393 missing values. Let's investigate why these values are missing and how can we deal with it."
   ]
  },
  {
   "cell_type": "code",
   "execution_count": 17,
   "metadata": {},
   "outputs": [
    {
     "data": {
      "text/html": [
       "<div>\n",
       "<style scoped>\n",
       "    .dataframe tbody tr th:only-of-type {\n",
       "        vertical-align: middle;\n",
       "    }\n",
       "\n",
       "    .dataframe tbody tr th {\n",
       "        vertical-align: top;\n",
       "    }\n",
       "\n",
       "    .dataframe thead th {\n",
       "        text-align: right;\n",
       "    }\n",
       "</style>\n",
       "<table border=\"1\" class=\"dataframe\">\n",
       "  <thead>\n",
       "    <tr style=\"text-align: right;\">\n",
       "      <th></th>\n",
       "      <th>Departure Delay in Minutes</th>\n",
       "      <th>Arrival Delay in Minutes</th>\n",
       "    </tr>\n",
       "  </thead>\n",
       "  <tbody>\n",
       "    <tr>\n",
       "      <th>213</th>\n",
       "      <td>31.0</td>\n",
       "      <td>NaN</td>\n",
       "    </tr>\n",
       "    <tr>\n",
       "      <th>1124</th>\n",
       "      <td>38.0</td>\n",
       "      <td>NaN</td>\n",
       "    </tr>\n",
       "    <tr>\n",
       "      <th>1529</th>\n",
       "      <td>11.0</td>\n",
       "      <td>NaN</td>\n",
       "    </tr>\n",
       "    <tr>\n",
       "      <th>2004</th>\n",
       "      <td>41.0</td>\n",
       "      <td>NaN</td>\n",
       "    </tr>\n",
       "    <tr>\n",
       "      <th>2108</th>\n",
       "      <td>1.0</td>\n",
       "      <td>NaN</td>\n",
       "    </tr>\n",
       "    <tr>\n",
       "      <th>...</th>\n",
       "      <td>...</td>\n",
       "      <td>...</td>\n",
       "    </tr>\n",
       "    <tr>\n",
       "      <th>24072</th>\n",
       "      <td>26.0</td>\n",
       "      <td>NaN</td>\n",
       "    </tr>\n",
       "    <tr>\n",
       "      <th>24133</th>\n",
       "      <td>19.0</td>\n",
       "      <td>NaN</td>\n",
       "    </tr>\n",
       "    <tr>\n",
       "      <th>24301</th>\n",
       "      <td>0.0</td>\n",
       "      <td>NaN</td>\n",
       "    </tr>\n",
       "    <tr>\n",
       "      <th>25128</th>\n",
       "      <td>0.0</td>\n",
       "      <td>NaN</td>\n",
       "    </tr>\n",
       "    <tr>\n",
       "      <th>25468</th>\n",
       "      <td>4.0</td>\n",
       "      <td>NaN</td>\n",
       "    </tr>\n",
       "  </tbody>\n",
       "</table>\n",
       "<p>393 rows × 2 columns</p>\n",
       "</div>"
      ],
      "text/plain": [
       "       Departure Delay in Minutes  Arrival Delay in Minutes\n",
       "213                          31.0                       NaN\n",
       "1124                         38.0                       NaN\n",
       "1529                         11.0                       NaN\n",
       "2004                         41.0                       NaN\n",
       "2108                          1.0                       NaN\n",
       "...                           ...                       ...\n",
       "24072                        26.0                       NaN\n",
       "24133                        19.0                       NaN\n",
       "24301                         0.0                       NaN\n",
       "25128                         0.0                       NaN\n",
       "25468                         4.0                       NaN\n",
       "\n",
       "[393 rows x 2 columns]"
      ]
     },
     "execution_count": 17,
     "metadata": {},
     "output_type": "execute_result"
    }
   ],
   "source": [
    "#Missing values\n",
    "raw_df.loc[raw_df['Arrival Delay in Minutes'].isna(), ['Departure Delay in Minutes', 'Arrival Delay in Minutes']]"
   ]
  },
  {
   "cell_type": "code",
   "execution_count": 18,
   "metadata": {},
   "outputs": [
    {
     "data": {
      "text/html": [
       "<div>\n",
       "<style scoped>\n",
       "    .dataframe tbody tr th:only-of-type {\n",
       "        vertical-align: middle;\n",
       "    }\n",
       "\n",
       "    .dataframe tbody tr th {\n",
       "        vertical-align: top;\n",
       "    }\n",
       "\n",
       "    .dataframe thead th {\n",
       "        text-align: right;\n",
       "    }\n",
       "</style>\n",
       "<table border=\"1\" class=\"dataframe\">\n",
       "  <thead>\n",
       "    <tr style=\"text-align: right;\">\n",
       "      <th></th>\n",
       "      <th>Departure Delay in Minutes</th>\n",
       "      <th>Arrival Delay in Minutes</th>\n",
       "    </tr>\n",
       "  </thead>\n",
       "  <tbody>\n",
       "    <tr>\n",
       "      <th>0</th>\n",
       "      <td>25.0</td>\n",
       "      <td>18.0</td>\n",
       "    </tr>\n",
       "    <tr>\n",
       "      <th>1</th>\n",
       "      <td>1.0</td>\n",
       "      <td>6.0</td>\n",
       "    </tr>\n",
       "    <tr>\n",
       "      <th>2</th>\n",
       "      <td>0.0</td>\n",
       "      <td>0.0</td>\n",
       "    </tr>\n",
       "    <tr>\n",
       "      <th>3</th>\n",
       "      <td>11.0</td>\n",
       "      <td>9.0</td>\n",
       "    </tr>\n",
       "    <tr>\n",
       "      <th>4</th>\n",
       "      <td>0.0</td>\n",
       "      <td>0.0</td>\n",
       "    </tr>\n",
       "    <tr>\n",
       "      <th>...</th>\n",
       "      <td>...</td>\n",
       "      <td>...</td>\n",
       "    </tr>\n",
       "    <tr>\n",
       "      <th>25971</th>\n",
       "      <td>0.0</td>\n",
       "      <td>0.0</td>\n",
       "    </tr>\n",
       "    <tr>\n",
       "      <th>25972</th>\n",
       "      <td>0.0</td>\n",
       "      <td>0.0</td>\n",
       "    </tr>\n",
       "    <tr>\n",
       "      <th>25973</th>\n",
       "      <td>0.0</td>\n",
       "      <td>0.0</td>\n",
       "    </tr>\n",
       "    <tr>\n",
       "      <th>25974</th>\n",
       "      <td>0.0</td>\n",
       "      <td>0.0</td>\n",
       "    </tr>\n",
       "    <tr>\n",
       "      <th>25975</th>\n",
       "      <td>0.0</td>\n",
       "      <td>0.0</td>\n",
       "    </tr>\n",
       "  </tbody>\n",
       "</table>\n",
       "<p>129880 rows × 2 columns</p>\n",
       "</div>"
      ],
      "text/plain": [
       "       Departure Delay in Minutes  Arrival Delay in Minutes\n",
       "0                            25.0                      18.0\n",
       "1                             1.0                       6.0\n",
       "2                             0.0                       0.0\n",
       "3                            11.0                       9.0\n",
       "4                             0.0                       0.0\n",
       "...                           ...                       ...\n",
       "25971                         0.0                       0.0\n",
       "25972                         0.0                       0.0\n",
       "25973                         0.0                       0.0\n",
       "25974                         0.0                       0.0\n",
       "25975                         0.0                       0.0\n",
       "\n",
       "[129880 rows x 2 columns]"
      ]
     },
     "execution_count": 18,
     "metadata": {},
     "output_type": "execute_result"
    }
   ],
   "source": [
    "raw_df.loc[:, ['Departure Delay in Minutes', 'Arrival Delay in Minutes']]"
   ]
  },
  {
   "cell_type": "markdown",
   "metadata": {},
   "source": [
    "What is the probability to arrive on time when your left the airport on time? "
   ]
  },
  {
   "cell_type": "code",
   "execution_count": 19,
   "metadata": {},
   "outputs": [
    {
     "name": "stdout",
     "output_type": "stream",
     "text": [
      "Proba to arrive on time: 0.56\n",
      "Proba to arrive on time when leaving on time: 0.81\n"
     ]
    },
    {
     "data": {
      "text/plain": [
       "''"
      ]
     },
     "execution_count": 19,
     "metadata": {},
     "output_type": "execute_result"
    },
    {
     "data": {
      "image/png": "[encoded data removed]",
      "text/plain": [
       "<Figure size 432x288 with 1 Axes>"
      ]
     },
     "metadata": {
      "needs_background": "light"
     },
     "output_type": "display_data"
    }
   ],
   "source": [
    "##Proba to arrive on time\n",
    "total = raw_df.loc[raw_df['Arrival Delay in Minutes'].isna()==False,:].shape[0]\n",
    "arr_on_time = raw_df.loc[(raw_df['Arrival Delay in Minutes'].isna()==False) & (raw_df['Arrival Delay in Minutes']==0),:].shape[0]\n",
    "p0 = arr_on_time/total\n",
    "print(f'Proba to arrive on time: {p0:.2f}')\n",
    "\n",
    "#Proba to arrive on time when leaving on time\n",
    "total_dep_on_time = raw_df.loc[(raw_df['Departure Delay in Minutes'] ==0) &  (raw_df['Arrival Delay in Minutes'].isna()== False),:].shape[0]\n",
    "dep_and_arr_on_time = raw_df.loc[(raw_df['Departure Delay in Minutes'] ==0) &  (raw_df['Arrival Delay in Minutes']== 0),:].shape[0]\n",
    "p1 = dep_and_arr_on_time / total_dep_on_time\n",
    "print(f'Proba to arrive on time when leaving on time: {p1:.2f}')\n",
    "\n",
    "#Basically, is intuition is that, the more you have departure delay, the more likely you'll have arrival delay\n",
    "#let's look at the departure delay distribution for our missing values\n",
    "#distribution of departure delay (numerical) -> hist\n",
    "df = raw_df.loc[raw_df['Arrival Delay in Minutes'].isna(), :]\n",
    "fig, ax = plt.subplots()\n",
    "ax.hist(df['Departure Delay in Minutes'], density=True, bins=40)\n",
    "ax.set_xlabel('Departure Delay in Minutes')\n",
    "ax.set_title('Hist of Departure Delay', y=-0.25)\n",
    "ax.set_xticks(np.arange(0, 600, 50))\n",
    ";\n"
   ]
  },
  {
   "cell_type": "code",
   "execution_count": 122,
   "metadata": {},
   "outputs": [
    {
     "data": {
      "text/plain": [
       "''"
      ]
     },
     "execution_count": 122,
     "metadata": {},
     "output_type": "execute_result"
    },
    {
     "data": {
      "image/png": "[encoded data removed]",
      "text/plain": [
       "<Figure size 432x288 with 1 Axes>"
      ]
     },
     "metadata": {
      "needs_background": "light"
     },
     "output_type": "display_data"
    }
   ],
   "source": [
    "#Does leaving x minutes late means arriving x minutes late? Or does the pilote succeed to get back some time?\n",
    "#in the case where the plan leave the airport with some delay\n",
    "df = raw_df.loc[(raw_df['Arrival Delay in Minutes'].isna()==False) & (raw_df['Departure Delay in Minutes'] > 10) & (raw_df['Arrival Delay in Minutes'] > 10),:]\n",
    "bins = 200\n",
    "fig , ax = plt.subplots()\n",
    "ax.hist(df['Departure Delay in Minutes'], bins=bins, density=True, alpha= 0.5, label= 'Departure')\n",
    "ax.hist(df['Arrival Delay in Minutes'], bins=bins,density=True, alpha= 0.5,label ='Arrival')\n",
    "ax.set_xlim(0,500)\n",
    "ax.set_xticks(np.arange(0, 600, 60))\n",
    "ax.legend(loc = 'upper right')\n",
    "#ax.set_title('Hist of departure and arrival delays \\n (starting from 10 minutes late)', y = -0.3)\n",
    "plt.savefig('./images/hist_dep_arr_delay.png')\n",
    ";"
   ]
  },
  {
   "cell_type": "markdown",
   "metadata": {},
   "source": [
    "We see that both histogram are almost layered => we can make the hypothesis that departure delay is approximately the same as the arrival delay"
   ]
  },
  {
   "cell_type": "code",
   "execution_count": 21,
   "metadata": {},
   "outputs": [],
   "source": [
    "#filling values\n",
    "big_df = raw_df.copy()"
   ]
  },
  {
   "cell_type": "code",
   "execution_count": 22,
   "metadata": {},
   "outputs": [],
   "source": [
    "big_df = big_df.fillna({'Arrival Delay in Minutes': big_df['Departure Delay in Minutes']})"
   ]
  },
  {
   "cell_type": "code",
   "execution_count": 23,
   "metadata": {},
   "outputs": [],
   "source": [
    "#quick verification that there isn't any missing values \n",
    "assert big_df.isna().sum().sum() == 0, 'There are still some missing values!'"
   ]
  },
  {
   "cell_type": "markdown",
   "metadata": {},
   "source": [
    "## OUTLIERS"
   ]
  },
  {
   "cell_type": "markdown",
   "metadata": {},
   "source": [
    "Still on arrival and departure delays"
   ]
  },
  {
   "cell_type": "code",
   "execution_count": 24,
   "metadata": {},
   "outputs": [
    {
     "name": "stdout",
     "output_type": "stream",
     "text": [
      "max departure delay: 1592.00, max arrival delay: 1584.00\n"
     ]
    }
   ],
   "source": [
    "# arrival and departure delays\n",
    "d = max(raw_df['Departure Delay in Minutes'])\n",
    "a = max(raw_df['Arrival Delay in Minutes'])\n",
    "print(f'max departure delay: {d:.2f}, max arrival delay: {a:.2f}')"
   ]
  },
  {
   "cell_type": "code",
   "execution_count": 25,
   "metadata": {},
   "outputs": [
    {
     "name": "stdout",
     "output_type": "stream",
     "text": [
      "number of values with either (or both) departure time or arrival time > 600 minutes: 26\n"
     ]
    },
    {
     "data": {
      "image/png": "[encoded data removed]",
      "text/plain": [
       "<Figure size 432x288 with 1 Axes>"
      ]
     },
     "metadata": {
      "needs_background": "light"
     },
     "output_type": "display_data"
    }
   ],
   "source": [
    "df = raw_df.loc[(raw_df['Departure Delay in Minutes'] > 600) | (raw_df['Arrival Delay in Minutes'] > 600),:]\n",
    "print('number of values with either (or both) departure time or arrival time > 600 minutes:', df.shape[0])\n",
    "bins = 40\n",
    "fig , ax = plt.subplots()\n",
    "ax.hist(df['Departure Delay in Minutes'], bins=bins, alpha= 0.5, label= 'Departure')\n",
    "ax.hist(df['Arrival Delay in Minutes'], bins=bins, alpha= 0.5,label ='Arrival')\n",
    "ax.legend(loc = 'upper right');"
   ]
  },
  {
   "cell_type": "markdown",
   "metadata": {},
   "source": [
    "## UNIVARIATE DATA-ANALYSIS\n",
    "\n"
   ]
  },
  {
   "cell_type": "code",
   "execution_count": 27,
   "metadata": {},
   "outputs": [
    {
     "data": {
      "text/plain": [
       "id                                      int64\n",
       "Gender                               category\n",
       "Customer Type                        category\n",
       "Age                                     int64\n",
       "Type of Travel                       category\n",
       "Class                                category\n",
       "Flight Distance                         int64\n",
       "Inflight wifi service                   int64\n",
       "Departure/Arrival time convenient       int64\n",
       "Ease of Online booking                  int64\n",
       "Gate location                           int64\n",
       "Food and drink                          int64\n",
       "Online boarding                         int64\n",
       "Seat comfort                            int64\n",
       "Inflight entertainment                  int64\n",
       "On-board service                        int64\n",
       "Leg room service                        int64\n",
       "Baggage handling                        int64\n",
       "Checkin service                         int64\n",
       "Inflight service                        int64\n",
       "Cleanliness                             int64\n",
       "Departure Delay in Minutes            float64\n",
       "Arrival Delay in Minutes              float64\n",
       "satisfaction                         category\n",
       "dtype: object"
      ]
     },
     "execution_count": 27,
     "metadata": {},
     "output_type": "execute_result"
    }
   ],
   "source": [
    "big_df.dtypes"
   ]
  },
  {
   "cell_type": "code",
   "execution_count": 28,
   "metadata": {},
   "outputs": [
    {
     "data": {
      "text/html": [
       "<div>\n",
       "<style scoped>\n",
       "    .dataframe tbody tr th:only-of-type {\n",
       "        vertical-align: middle;\n",
       "    }\n",
       "\n",
       "    .dataframe tbody tr th {\n",
       "        vertical-align: top;\n",
       "    }\n",
       "\n",
       "    .dataframe thead th {\n",
       "        text-align: right;\n",
       "    }\n",
       "</style>\n",
       "<table border=\"1\" class=\"dataframe\">\n",
       "  <thead>\n",
       "    <tr style=\"text-align: right;\">\n",
       "      <th></th>\n",
       "      <th>id</th>\n",
       "      <th>Gender</th>\n",
       "      <th>Customer Type</th>\n",
       "      <th>Age</th>\n",
       "      <th>Type of Travel</th>\n",
       "      <th>Class</th>\n",
       "      <th>Flight Distance</th>\n",
       "      <th>Inflight wifi service</th>\n",
       "      <th>Departure/Arrival time convenient</th>\n",
       "      <th>Ease of Online booking</th>\n",
       "      <th>...</th>\n",
       "      <th>Inflight entertainment</th>\n",
       "      <th>On-board service</th>\n",
       "      <th>Leg room service</th>\n",
       "      <th>Baggage handling</th>\n",
       "      <th>Checkin service</th>\n",
       "      <th>Inflight service</th>\n",
       "      <th>Cleanliness</th>\n",
       "      <th>Departure Delay in Minutes</th>\n",
       "      <th>Arrival Delay in Minutes</th>\n",
       "      <th>satisfaction</th>\n",
       "    </tr>\n",
       "  </thead>\n",
       "  <tbody>\n",
       "    <tr>\n",
       "      <th>0</th>\n",
       "      <td>70172</td>\n",
       "      <td>Male</td>\n",
       "      <td>Loyal Customer</td>\n",
       "      <td>13</td>\n",
       "      <td>Personal Travel</td>\n",
       "      <td>Eco Plus</td>\n",
       "      <td>460</td>\n",
       "      <td>3</td>\n",
       "      <td>4</td>\n",
       "      <td>3</td>\n",
       "      <td>...</td>\n",
       "      <td>5</td>\n",
       "      <td>4</td>\n",
       "      <td>3</td>\n",
       "      <td>4</td>\n",
       "      <td>4</td>\n",
       "      <td>5</td>\n",
       "      <td>5</td>\n",
       "      <td>25.0</td>\n",
       "      <td>18.0</td>\n",
       "      <td>neutral or dissatisfied</td>\n",
       "    </tr>\n",
       "    <tr>\n",
       "      <th>1</th>\n",
       "      <td>5047</td>\n",
       "      <td>Male</td>\n",
       "      <td>disloyal Customer</td>\n",
       "      <td>25</td>\n",
       "      <td>Business travel</td>\n",
       "      <td>Business</td>\n",
       "      <td>235</td>\n",
       "      <td>3</td>\n",
       "      <td>2</td>\n",
       "      <td>3</td>\n",
       "      <td>...</td>\n",
       "      <td>1</td>\n",
       "      <td>1</td>\n",
       "      <td>5</td>\n",
       "      <td>3</td>\n",
       "      <td>1</td>\n",
       "      <td>4</td>\n",
       "      <td>1</td>\n",
       "      <td>1.0</td>\n",
       "      <td>6.0</td>\n",
       "      <td>neutral or dissatisfied</td>\n",
       "    </tr>\n",
       "    <tr>\n",
       "      <th>2</th>\n",
       "      <td>110028</td>\n",
       "      <td>Female</td>\n",
       "      <td>Loyal Customer</td>\n",
       "      <td>26</td>\n",
       "      <td>Business travel</td>\n",
       "      <td>Business</td>\n",
       "      <td>1142</td>\n",
       "      <td>2</td>\n",
       "      <td>2</td>\n",
       "      <td>2</td>\n",
       "      <td>...</td>\n",
       "      <td>5</td>\n",
       "      <td>4</td>\n",
       "      <td>3</td>\n",
       "      <td>4</td>\n",
       "      <td>4</td>\n",
       "      <td>4</td>\n",
       "      <td>5</td>\n",
       "      <td>0.0</td>\n",
       "      <td>0.0</td>\n",
       "      <td>satisfied</td>\n",
       "    </tr>\n",
       "    <tr>\n",
       "      <th>3</th>\n",
       "      <td>24026</td>\n",
       "      <td>Female</td>\n",
       "      <td>Loyal Customer</td>\n",
       "      <td>25</td>\n",
       "      <td>Business travel</td>\n",
       "      <td>Business</td>\n",
       "      <td>562</td>\n",
       "      <td>2</td>\n",
       "      <td>5</td>\n",
       "      <td>5</td>\n",
       "      <td>...</td>\n",
       "      <td>2</td>\n",
       "      <td>2</td>\n",
       "      <td>5</td>\n",
       "      <td>3</td>\n",
       "      <td>1</td>\n",
       "      <td>4</td>\n",
       "      <td>2</td>\n",
       "      <td>11.0</td>\n",
       "      <td>9.0</td>\n",
       "      <td>neutral or dissatisfied</td>\n",
       "    </tr>\n",
       "    <tr>\n",
       "      <th>4</th>\n",
       "      <td>119299</td>\n",
       "      <td>Male</td>\n",
       "      <td>Loyal Customer</td>\n",
       "      <td>61</td>\n",
       "      <td>Business travel</td>\n",
       "      <td>Business</td>\n",
       "      <td>214</td>\n",
       "      <td>3</td>\n",
       "      <td>3</td>\n",
       "      <td>3</td>\n",
       "      <td>...</td>\n",
       "      <td>3</td>\n",
       "      <td>3</td>\n",
       "      <td>4</td>\n",
       "      <td>4</td>\n",
       "      <td>3</td>\n",
       "      <td>3</td>\n",
       "      <td>3</td>\n",
       "      <td>0.0</td>\n",
       "      <td>0.0</td>\n",
       "      <td>satisfied</td>\n",
       "    </tr>\n",
       "  </tbody>\n",
       "</table>\n",
       "<p>5 rows × 24 columns</p>\n",
       "</div>"
      ],
      "text/plain": [
       "       id  Gender      Customer Type  Age   Type of Travel     Class  \\\n",
       "0   70172    Male     Loyal Customer   13  Personal Travel  Eco Plus   \n",
       "1    5047    Male  disloyal Customer   25  Business travel  Business   \n",
       "2  110028  Female     Loyal Customer   26  Business travel  Business   \n",
       "3   24026  Female     Loyal Customer   25  Business travel  Business   \n",
       "4  119299    Male     Loyal Customer   61  Business travel  Business   \n",
       "\n",
       "   Flight Distance  Inflight wifi service  Departure/Arrival time convenient  \\\n",
       "0              460                      3                                  4   \n",
       "1              235                      3                                  2   \n",
       "2             1142                      2                                  2   \n",
       "3              562                      2                                  5   \n",
       "4              214                      3                                  3   \n",
       "\n",
       "   Ease of Online booking  ...  Inflight entertainment  On-board service  \\\n",
       "0                       3  ...                       5                 4   \n",
       "1                       3  ...                       1                 1   \n",
       "2                       2  ...                       5                 4   \n",
       "3                       5  ...                       2                 2   \n",
       "4                       3  ...                       3                 3   \n",
       "\n",
       "   Leg room service  Baggage handling  Checkin service  Inflight service  \\\n",
       "0                 3                 4                4                 5   \n",
       "1                 5                 3                1                 4   \n",
       "2                 3                 4                4                 4   \n",
       "3                 5                 3                1                 4   \n",
       "4                 4                 4                3                 3   \n",
       "\n",
       "   Cleanliness  Departure Delay in Minutes  Arrival Delay in Minutes  \\\n",
       "0            5                        25.0                      18.0   \n",
       "1            1                         1.0                       6.0   \n",
       "2            5                         0.0                       0.0   \n",
       "3            2                        11.0                       9.0   \n",
       "4            3                         0.0                       0.0   \n",
       "\n",
       "              satisfaction  \n",
       "0  neutral or dissatisfied  \n",
       "1  neutral or dissatisfied  \n",
       "2                satisfied  \n",
       "3  neutral or dissatisfied  \n",
       "4                satisfied  \n",
       "\n",
       "[5 rows x 24 columns]"
      ]
     },
     "execution_count": 28,
     "metadata": {},
     "output_type": "execute_result"
    }
   ],
   "source": [
    "big_df.head()"
   ]
  },
  {
   "cell_type": "code",
   "execution_count": 29,
   "metadata": {},
   "outputs": [
    {
     "data": {
      "text/plain": [
       "Female    50.738374\n",
       "Male      49.261626\n",
       "Name: Gender, dtype: float64"
      ]
     },
     "execution_count": 29,
     "metadata": {},
     "output_type": "execute_result"
    }
   ],
   "source": [
    "#gender\n",
    "big_df['Gender'].value_counts(normalize=True)*100"
   ]
  },
  {
   "cell_type": "code",
   "execution_count": 30,
   "metadata": {},
   "outputs": [
    {
     "data": {
      "text/plain": [
       "Loyal Customer       81.690791\n",
       "disloyal Customer    18.309209\n",
       "Name: Customer Type, dtype: float64"
      ]
     },
     "execution_count": 30,
     "metadata": {},
     "output_type": "execute_result"
    }
   ],
   "source": [
    "#customer type\n",
    "big_df['Customer Type'].value_counts(normalize=True)*100"
   ]
  },
  {
   "cell_type": "code",
   "execution_count": 126,
   "metadata": {},
   "outputs": [
    {
     "data": {
      "text/plain": [
       "(30-50]    0.426532\n",
       "(0-30]     0.314752\n",
       "(> 50)     0.258716\n",
       "Name: Age_group, dtype: float64"
      ]
     },
     "execution_count": 126,
     "metadata": {},
     "output_type": "execute_result"
    },
    {
     "data": {
      "image/png": "[encoded data removed]",
      "text/plain": [
       "<Figure size 432x288 with 1 Axes>"
      ]
     },
     "metadata": {
      "needs_background": "light"
     },
     "output_type": "display_data"
    }
   ],
   "source": [
    "#age\n",
    "fig, ax = plt.subplots()\n",
    "ax.hist(big_df['Age'], bins=40)\n",
    "#ax.set_title('Hist of Age')\n",
    "ax.set_xlabel('Age')\n",
    "plt.savefig('./images/hist_age.png')\n",
    ";\n",
    "\n",
    "##Let's transforme this variable into a categorical variable\n",
    "'''\n",
    "(0-21]\n",
    "(21-35]\n",
    "(35-45]\n",
    "(45-50]\n",
    "(> 50)\n",
    "'''\n",
    "big_df['Age_group'] = np.nan\n",
    "big_df.loc[big_df['Age'] <=30, ['Age_group']] = '(0-30]'\n",
    "big_df.loc[(big_df['Age'] > 30) & (big_df['Age'] <= 50), ['Age_group']] = '(30-50]'\n",
    "big_df.loc[big_df['Age'] > 50, ['Age_group']] = '(> 50)'\n",
    "big_df['Age_group'] = big_df['Age_group'].astype('category')\n",
    "\n",
    "assert big_df['Age_group'].isna().sum() == 0, 'you forgot some values'\n",
    "big_df['Age_group'].value_counts(normalize=True)"
   ]
  },
  {
   "cell_type": "code",
   "execution_count": 32,
   "metadata": {},
   "outputs": [
    {
     "data": {
      "text/plain": [
       "Business travel    69.058362\n",
       "Personal Travel    30.941638\n",
       "Name: Type of Travel, dtype: float64"
      ]
     },
     "execution_count": 32,
     "metadata": {},
     "output_type": "execute_result"
    }
   ],
   "source": [
    "#type of travel\n",
    "big_df['Type of Travel'].value_counts(normalize=True)*100"
   ]
  },
  {
   "cell_type": "code",
   "execution_count": 33,
   "metadata": {},
   "outputs": [
    {
     "data": {
      "text/plain": [
       "Business    47.859563\n",
       "Eco         44.894518\n",
       "Eco Plus     7.245919\n",
       "Name: Class, dtype: float64"
      ]
     },
     "execution_count": 33,
     "metadata": {},
     "output_type": "execute_result"
    }
   ],
   "source": [
    "#class\n",
    "big_df['Class'].value_counts(normalize=True)*100"
   ]
  },
  {
   "cell_type": "code",
   "execution_count": 148,
   "metadata": {},
   "outputs": [
    {
     "name": "stdout",
     "output_type": "stream",
     "text": [
      "count    129880.000000\n",
      "mean       1190.316392\n",
      "std         997.452477\n",
      "min          31.000000\n",
      "25%         414.000000\n",
      "50%         844.000000\n",
      "75%        1744.000000\n",
      "max        4983.000000\n",
      "Name: Flight Distance, dtype: float64\n"
     ]
    },
    {
     "data": {
      "text/plain": [
       "Short-haul     57.824915\n",
       "Medium-haul    34.234678\n",
       "Long-haul       7.940407\n",
       "Name: Flight Distance_group, dtype: float64"
      ]
     },
     "execution_count": 148,
     "metadata": {},
     "output_type": "execute_result"
    },
    {
     "data": {
      "image/png": "[encoded data removed]",
      "text/plain": [
       "<Figure size 432x288 with 1 Axes>"
      ]
     },
     "metadata": {
      "needs_background": "light"
     },
     "output_type": "display_data"
    }
   ],
   "source": [
    "#Flight Distance\n",
    "fig, ax = plt.subplots()\n",
    "ax.hist(big_df['Flight Distance'], bins= 40)\n",
    "#ax.set_title('Hist of flight distance')\n",
    "plt.savefig('images/hist_flight_dist.png')\n",
    ";\n",
    "\n",
    "print(big_df['Flight Distance'].describe())\n",
    "\"\"\"\n",
    "Commercial flights are often categorized into long-, medium- or short-haul \n",
    "by commercial airlines based on flight length. (there is no international standard definition)\n",
    "tend to define short-haul routes as being shorter than 600–800 nmi (1,100–1,500 km), long-haul as being longer than \n",
    "2,200–2,600 nmi (4,100–4,800 km), \n",
    "and medium-haul as being in-between.\n",
    "\n",
    "In kms\n",
    "Short-haul (0-1000]\n",
    "Medium-haul (1000-3000]\n",
    "Long-haul (>3000)\n",
    "\"\"\"\n",
    "big_df['Flight Distance_group'] = np.nan\n",
    "big_df.loc[big_df['Flight Distance'] <= 1000, ['Flight Distance_group']] = 'Short-haul'\n",
    "big_df.loc[(big_df['Flight Distance'] > 1000) & (big_df['Flight Distance'] <= 3000), ['Flight Distance_group']] = 'Medium-haul'                                                                            \n",
    "big_df.loc[(big_df['Flight Distance'] > 3000), ['Flight Distance_group']] = 'Long-haul'\n",
    "\n",
    "assert big_df['Flight Distance_group'].isna().sum() ==0, 'Flight distance var not good'\n",
    "big_df['Flight Distance_group'] = big_df['Flight Distance_group'].astype('category')\n",
    "big_df['Flight Distance_group'].value_counts(normalize=True)*100\n"
   ]
  },
  {
   "cell_type": "markdown",
   "metadata": {},
   "source": [
    "**Satisfaction scores**\n"
   ]
  },
  {
   "cell_type": "code",
   "execution_count": 138,
   "metadata": {},
   "outputs": [],
   "source": [
    "sat_idx = ['Inflight wifi service','Departure/Arrival time convenient',\n",
    "           'Ease of Online booking','Gate location',\n",
    "           'Food and drink','Online boarding','Seat comfort',\n",
    "           'Inflight entertainment','On-board service',\n",
    "           'Leg room service','Baggage handling',\n",
    "           'Checkin service','Inflight service','Cleanliness']"
   ]
  },
  {
   "cell_type": "code",
   "execution_count": 139,
   "metadata": {},
   "outputs": [
    {
     "data": {
      "text/plain": [
       "(129880, 14)"
      ]
     },
     "execution_count": 139,
     "metadata": {},
     "output_type": "execute_result"
    }
   ],
   "source": [
    "tmp = big_df.loc[:, sat_idx]\n",
    "tmp.shape"
   ]
  },
  {
   "cell_type": "code",
   "execution_count": 140,
   "metadata": {},
   "outputs": [
    {
     "data": {
      "text/plain": [
       "''"
      ]
     },
     "execution_count": 140,
     "metadata": {},
     "output_type": "execute_result"
    },
    {
     "data": {
      "image/png": "[encoded data removed]",
      "text/plain": [
       "<Figure size 1080x360 with 1 Axes>"
      ]
     },
     "metadata": {
      "needs_background": "light"
     },
     "output_type": "display_data"
    }
   ],
   "source": [
    "fig, ax = plt.subplots(figsize=(15, 5))\n",
    "ax.boxplot(tmp, labels=tmp.columns,)\n",
    "ax.set_title('Satisfaction variables')\n",
    "ax.set_xticklabels(tmp.columns, rotation=40)\n",
    ";"
   ]
  },
  {
   "cell_type": "code",
   "execution_count": 141,
   "metadata": {},
   "outputs": [
    {
     "data": {
      "text/plain": [
       "''"
      ]
     },
     "execution_count": 141,
     "metadata": {},
     "output_type": "execute_result"
    },
    {
     "data": {
      "image/png": "[encoded data removed]",
      "text/plain": [
       "<Figure size 504x360 with 1 Axes>"
      ]
     },
     "metadata": {
      "needs_background": "light"
     },
     "output_type": "display_data"
    }
   ],
   "source": [
    "tmp = tmp.loc[:, ['Inflight service', 'Baggage handling', 'Seat comfort']]\n",
    "fig, ax = plt.subplots(figsize=(7, 5))\n",
    "ax.boxplot(tmp, labels=tmp.columns,)\n",
    "ax.set_title('Satisfaction variables')\n",
    "ax.set_xticklabels(tmp.columns, rotation=0)\n",
    "plt.savefig('images/boxplot_1.png')\n",
    ";"
   ]
  },
  {
   "cell_type": "code",
   "execution_count": 142,
   "metadata": {},
   "outputs": [
    {
     "data": {
      "text/plain": [
       "''"
      ]
     },
     "execution_count": 142,
     "metadata": {},
     "output_type": "execute_result"
    },
    {
     "data": {
      "image/png": "[encoded data removed]",
      "text/plain": [
       "<Figure size 504x360 with 1 Axes>"
      ]
     },
     "metadata": {
      "needs_background": "light"
     },
     "output_type": "display_data"
    }
   ],
   "source": [
    "tmp = big_df.loc[:, ['Gate location', 'Ease of Online booking', 'Inflight wifi service']]\n",
    "fig, ax = plt.subplots(figsize=(7, 5))\n",
    "ax.boxplot(tmp, labels=tmp.columns,)\n",
    "ax.set_title('Satisfaction variables')\n",
    "ax.set_xticklabels(tmp.columns, rotation=0)\n",
    "plt.savefig('images/boxplot_2.png')\n",
    ";\n"
   ]
  },
  {
   "cell_type": "code",
   "execution_count": 38,
   "metadata": {},
   "outputs": [
    {
     "data": {
      "text/plain": [
       "Inflight service                     3.642193\n",
       "Baggage handling                     3.632114\n",
       "Seat comfort                         3.441361\n",
       "On-board service                     3.383023\n",
       "Inflight entertainment               3.358077\n",
       "Leg room service                     3.350878\n",
       "Checkin service                      3.306267\n",
       "Cleanliness                          3.286326\n",
       "Online boarding                      3.252633\n",
       "Food and drink                       3.204774\n",
       "Departure/Arrival time convenient    3.057599\n",
       "Gate location                        2.976925\n",
       "Ease of Online booking               2.756876\n",
       "Inflight wifi service                2.728696\n",
       "dtype: float64"
      ]
     },
     "execution_count": 38,
     "metadata": {},
     "output_type": "execute_result"
    }
   ],
   "source": [
    "tmp.mean().sort_values(ascending=False)"
   ]
  },
  {
   "cell_type": "markdown",
   "metadata": {},
   "source": [
    "People seem to be very satisfied with Inflight service, bagage handling and seat comfort as these variables get the high mean satisfaction, (respectively 3.64, 3.63 and 3.44). \n",
    "On the other hand, the company's performance is less impressive with the Gate location, the ease of Online booking and the Inflight wifi service (respectively 2.97, 2.75, 2.72).\n",
    "\n",
    "The company should probably work on these 3 last topics in order to improve their overall quality service. But, we don't know if these variables are really important in the final decision of the customer (satisfied or dissatisfied). In other words, we don't know the weights of these variables in the last decision.  "
   ]
  },
  {
   "cell_type": "code",
   "execution_count": 147,
   "metadata": {},
   "outputs": [
    {
     "data": {
      "image/png": "[encoded data removed]",
      "text/plain": [
       "<Figure size 720x360 with 2 Axes>"
      ]
     },
     "metadata": {
      "needs_background": "light"
     },
     "output_type": "display_data"
    }
   ],
   "source": [
    "fig ,ax = plt.subplots(1,2, figsize=(10,5))\n",
    "ax[0].hist(big_df['Departure Delay in Minutes'], bins=80)\n",
    "ax[0].set_xlabel('Departure delay')\n",
    "ax[1].hist(big_df['Arrival Delay in Minutes'],bins=80)\n",
    "ax[1].set_xlabel('Arrival delay')\n",
    "plt.savefig('images/both_arr_dep_del.png')"
   ]
  },
  {
   "cell_type": "code",
   "execution_count": 52,
   "metadata": {},
   "outputs": [
    {
     "data": {
      "text/plain": [
       "on_time                 56.479828\n",
       "more_than_10min_late    26.757006\n",
       "less_than_10min_late    16.763166\n",
       "Name: Departure Delay in Minutes_group, dtype: float64"
      ]
     },
     "execution_count": 52,
     "metadata": {},
     "output_type": "execute_result"
    },
    {
     "data": {
      "image/png": "[encoded data removed]",
      "text/plain": [
       "<Figure size 432x288 with 1 Axes>"
      ]
     },
     "metadata": {
      "needs_background": "light"
     },
     "output_type": "display_data"
    }
   ],
   "source": [
    "# Departure Delay in Minutes\n",
    "fig ,ax = plt.subplots()\n",
    "ax.hist(big_df['Departure Delay in Minutes'], bins=80)\n",
    "ax.set_title('Hist departure');\n",
    "\n",
    "#Let's create a \n",
    "big_df['Departure Delay in Minutes_group'] = np.nan\n",
    "big_df.loc[big_df['Departure Delay in Minutes'] == 0, 'Departure Delay in Minutes_group'] = 'on_time'\n",
    "big_df.loc[(big_df['Departure Delay in Minutes'] > 0) & (big_df['Departure Delay in Minutes'] <= 10), 'Departure Delay in Minutes_group'] = 'less_than_10min_late'\n",
    "big_df.loc[big_df['Departure Delay in Minutes'] > 10, 'Departure Delay in Minutes_group'] = 'more_than_10min_late'\n",
    "\n",
    "assert big_df['Departure Delay in Minutes_group'].isna().sum() == 0, 'Error'\n",
    "\n",
    "big_df['Departure Delay in Minutes_group'] = big_df['Departure Delay in Minutes_group'].astype('category')\n",
    "big_df['Departure Delay in Minutes_group'].value_counts(normalize=True)*100"
   ]
  },
  {
   "cell_type": "code",
   "execution_count": 53,
   "metadata": {},
   "outputs": [
    {
     "data": {
      "text/plain": [
       "on_time                 56.128734\n",
       "more_than_10min_late    27.787188\n",
       "less_than_10min_late    16.084078\n",
       "Name: Arrival Delay in Minutes_group, dtype: float64"
      ]
     },
     "execution_count": 53,
     "metadata": {},
     "output_type": "execute_result"
    },
    {
     "data": {
      "image/png": "[encoded data removed]",
      "text/plain": [
       "<Figure size 432x288 with 1 Axes>"
      ]
     },
     "metadata": {
      "needs_background": "light"
     },
     "output_type": "display_data"
    }
   ],
   "source": [
    "# Arrival Delay in Minutes\n",
    "fig ,ax = plt.subplots()\n",
    "ax.hist(big_df['Arrival Delay in Minutes'], bins=80)\n",
    "ax.set_title('Hist arrival');\n",
    "\n",
    "#Let's create a \n",
    "big_df['Arrival Delay in Minutes_group'] = np.nan\n",
    "big_df.loc[big_df['Arrival Delay in Minutes'] == 0, 'Arrival Delay in Minutes_group'] = 'on_time'\n",
    "big_df.loc[(big_df['Arrival Delay in Minutes'] > 0) & (big_df['Arrival Delay in Minutes'] <= 10), 'Arrival Delay in Minutes_group'] = 'less_than_10min_late'\n",
    "big_df.loc[big_df['Arrival Delay in Minutes'] > 10, 'Arrival Delay in Minutes_group'] = 'more_than_10min_late'\n",
    "\n",
    "assert big_df['Arrival Delay in Minutes_group'].isna().sum() == 0, 'Error'\n",
    "\n",
    "big_df['Arrival Delay in Minutes_group'] = big_df['Arrival Delay in Minutes_group'].astype('category')\n",
    "big_df['Arrival Delay in Minutes_group'].value_counts(normalize=True)*100"
   ]
  },
  {
   "cell_type": "markdown",
   "metadata": {},
   "source": [
    "## THE DEPENDENT VARIABLE : SATISFACTION"
   ]
  },
  {
   "cell_type": "code",
   "execution_count": 123,
   "metadata": {
    "scrolled": true
   },
   "outputs": [
    {
     "name": "stdout",
     "output_type": "stream",
     "text": [
      "neutral or dissatisfied    56.553742\n",
      "satisfied                  43.446258\n",
      "Name: satisfaction, dtype: float64\n"
     ]
    },
    {
     "name": "stderr",
     "output_type": "stream",
     "text": [
      "c:\\users\\colab1\\miniconda3\\lib\\site-packages\\seaborn\\_decorators.py:36: FutureWarning: Pass the following variable as a keyword arg: x. From version 0.12, the only valid positional argument will be `data`, and passing other arguments without an explicit keyword will result in an error or misinterpretation.\n",
      "  warnings.warn(\n"
     ]
    },
    {
     "data": {
      "text/plain": [
       "''"
      ]
     },
     "execution_count": 123,
     "metadata": {},
     "output_type": "execute_result"
    },
    {
     "data": {
      "image/png": "[encoded data removed]",
      "text/plain": [
       "<Figure size 432x288 with 1 Axes>"
      ]
     },
     "metadata": {
      "needs_background": "light"
     },
     "output_type": "display_data"
    }
   ],
   "source": [
    "#satisfaction\n",
    "tmp = big_df['satisfaction'].value_counts(normalize=True)*100\n",
    "print(tmp)\n",
    "fig, ax = plt.subplots()\n",
    "sns.countplot(big_df['satisfaction'], ax = ax)\n",
    "ax.text(0,70000, f'{tmp[0]:.2f}%')\n",
    "ax.text(1,70000, f'{tmp[1]:.2f}%')\n",
    "plt.savefig('./images/barplot_dep_var.png')\n",
    ";"
   ]
  },
  {
   "cell_type": "markdown",
   "metadata": {},
   "source": [
    "Balanced dataset => accuracy"
   ]
  },
  {
   "cell_type": "markdown",
   "metadata": {},
   "source": [
    "## FEATURE ENGINEERING"
   ]
  },
  {
   "cell_type": "code",
   "execution_count": 55,
   "metadata": {},
   "outputs": [
    {
     "data": {
      "text/html": [
       "<div>\n",
       "<style scoped>\n",
       "    .dataframe tbody tr th:only-of-type {\n",
       "        vertical-align: middle;\n",
       "    }\n",
       "\n",
       "    .dataframe tbody tr th {\n",
       "        vertical-align: top;\n",
       "    }\n",
       "\n",
       "    .dataframe thead th {\n",
       "        text-align: right;\n",
       "    }\n",
       "</style>\n",
       "<table border=\"1\" class=\"dataframe\">\n",
       "  <thead>\n",
       "    <tr style=\"text-align: right;\">\n",
       "      <th></th>\n",
       "      <th>id</th>\n",
       "      <th>Gender</th>\n",
       "      <th>Customer Type</th>\n",
       "      <th>Age</th>\n",
       "      <th>Type of Travel</th>\n",
       "      <th>Class</th>\n",
       "      <th>Flight Distance</th>\n",
       "      <th>Inflight wifi service</th>\n",
       "      <th>Departure/Arrival time convenient</th>\n",
       "      <th>Ease of Online booking</th>\n",
       "      <th>...</th>\n",
       "      <th>Checkin service</th>\n",
       "      <th>Inflight service</th>\n",
       "      <th>Cleanliness</th>\n",
       "      <th>Departure Delay in Minutes</th>\n",
       "      <th>Arrival Delay in Minutes</th>\n",
       "      <th>satisfaction</th>\n",
       "      <th>Age_group</th>\n",
       "      <th>Flight Distance_group</th>\n",
       "      <th>Departure Delay in Minutes_group</th>\n",
       "      <th>Arrival Delay in Minutes_group</th>\n",
       "    </tr>\n",
       "  </thead>\n",
       "  <tbody>\n",
       "    <tr>\n",
       "      <th>0</th>\n",
       "      <td>70172</td>\n",
       "      <td>Male</td>\n",
       "      <td>Loyal Customer</td>\n",
       "      <td>13</td>\n",
       "      <td>Personal Travel</td>\n",
       "      <td>Eco Plus</td>\n",
       "      <td>460</td>\n",
       "      <td>3</td>\n",
       "      <td>4</td>\n",
       "      <td>3</td>\n",
       "      <td>...</td>\n",
       "      <td>4</td>\n",
       "      <td>5</td>\n",
       "      <td>5</td>\n",
       "      <td>25.0</td>\n",
       "      <td>18.0</td>\n",
       "      <td>neutral or dissatisfied</td>\n",
       "      <td>(0-30]</td>\n",
       "      <td>Short-haul</td>\n",
       "      <td>more_than_10min_late</td>\n",
       "      <td>more_than_10min_late</td>\n",
       "    </tr>\n",
       "  </tbody>\n",
       "</table>\n",
       "<p>1 rows × 28 columns</p>\n",
       "</div>"
      ],
      "text/plain": [
       "      id Gender   Customer Type  Age   Type of Travel     Class  \\\n",
       "0  70172   Male  Loyal Customer   13  Personal Travel  Eco Plus   \n",
       "\n",
       "   Flight Distance  Inflight wifi service  Departure/Arrival time convenient  \\\n",
       "0              460                      3                                  4   \n",
       "\n",
       "   Ease of Online booking  ...  Checkin service  Inflight service  \\\n",
       "0                       3  ...                4                 5   \n",
       "\n",
       "   Cleanliness  Departure Delay in Minutes  Arrival Delay in Minutes  \\\n",
       "0            5                        25.0                      18.0   \n",
       "\n",
       "              satisfaction  Age_group  Flight Distance_group  \\\n",
       "0  neutral or dissatisfied     (0-30]             Short-haul   \n",
       "\n",
       "   Departure Delay in Minutes_group  Arrival Delay in Minutes_group  \n",
       "0              more_than_10min_late            more_than_10min_late  \n",
       "\n",
       "[1 rows x 28 columns]"
      ]
     },
     "execution_count": 55,
     "metadata": {},
     "output_type": "execute_result"
    }
   ],
   "source": [
    "big_df.iloc[:1, ]"
   ]
  },
  {
   "cell_type": "code",
   "execution_count": 56,
   "metadata": {},
   "outputs": [
    {
     "data": {
      "text/plain": [
       "on_time                 45.809978\n",
       "more_than_10min_late    35.341854\n",
       "less_than_10min_late    18.848168\n",
       "Name: total_delay_group, dtype: float64"
      ]
     },
     "execution_count": 56,
     "metadata": {},
     "output_type": "execute_result"
    },
    {
     "data": {
      "image/png": "[encoded data removed]",
      "text/plain": [
       "<Figure size 432x288 with 1 Axes>"
      ]
     },
     "metadata": {
      "needs_background": "light"
     },
     "output_type": "display_data"
    }
   ],
   "source": [
    "#total_delay\n",
    "big_df = big_df.assign(total_delay= big_df['Departure Delay in Minutes'] + big_df['Arrival Delay in Minutes'])\n",
    "fig , ax = plt.subplots()\n",
    "ax.hist(big_df['total_delay'], bins=50, density=True);\n",
    "\n",
    "#total_delay_group\n",
    "big_df['total_delay_group'] = np.nan\n",
    "big_df.loc[big_df['total_delay'] == 0, 'total_delay_group'] = 'on_time'\n",
    "big_df.loc[(big_df['total_delay'] > 0) & (big_df['total_delay'] <= 10), 'total_delay_group'] = 'less_than_10min_late'\n",
    "big_df.loc[big_df['total_delay'] > 10, 'total_delay_group'] = 'more_than_10min_late'\n",
    "\n",
    "assert big_df['total_delay_group'].isna().sum() == 0, 'Error'\n",
    "big_df['total_delay_group'] = big_df['total_delay_group'].astype('category')\n",
    "big_df['total_delay_group'].value_counts(normalize=True)*100"
   ]
  },
  {
   "cell_type": "code",
   "execution_count": 57,
   "metadata": {},
   "outputs": [],
   "source": [
    "#mean_satisfaction\n",
    "sati_idx = ['Inflight wifi service',\n",
    " 'Departure/Arrival time convenient',\n",
    " 'Ease of Online booking','Gate location',\n",
    " 'Food and drink',\n",
    " 'Online boarding',\n",
    " 'Seat comfort',\n",
    " 'Inflight entertainment',\n",
    " 'On-board service',\n",
    " 'Leg room service',\n",
    " 'Baggage handling',\n",
    " 'Checkin service',\n",
    " 'Inflight service',\n",
    " 'Cleanliness']\n",
    "\n",
    "##df containing only satisfaction variables\n",
    "df = big_df.loc[:, sati_idx]\n",
    "df.head(n=1)\n",
    "big_df = big_df.assign(mean_satisfaction = df.mean(axis=1))"
   ]
  },
  {
   "cell_type": "code",
   "execution_count": 153,
   "metadata": {},
   "outputs": [
    {
     "data": {
      "text/plain": [
       "''"
      ]
     },
     "execution_count": 153,
     "metadata": {},
     "output_type": "execute_result"
    },
    {
     "data": {
      "image/png": "[encoded data removed]",
      "text/plain": [
       "<Figure size 432x288 with 1 Axes>"
      ]
     },
     "metadata": {
      "needs_background": "light"
     },
     "output_type": "display_data"
    }
   ],
   "source": [
    "mean, std = big_df['mean_satisfaction'].mean(), big_df['mean_satisfaction'].std()\n",
    "fig, ax = plt.subplots()\n",
    "ax.hist(big_df['mean_satisfaction'], bins =100, density=True)\n",
    "#ax.set_title(f'Hist of mean satisfaction \\n mean: {mean:.2f}')\n",
    "ax.axvline(2, color='red')\n",
    "ax.axvline(4.5, color='green')\n",
    "ax.text(1,1, f'mean:{mean:.2f}')\n",
    "#ax.text(1, 1, 'very unsatisfied \\n cust.', color='r')\n",
    "#ax.text(4, 1, 'very satisfied \\n cust.', color='g')\n",
    "plt.savefig('images/mean_satisf_distrib.png')\n",
    ";"
   ]
  },
  {
   "cell_type": "markdown",
   "metadata": {},
   "source": [
    "## DRAWING THE PROFIL OF EXTREMUMS\n",
    "\n",
    "Note that the mean_satisfaction variable doesn't take into account several important independant variables related to the flight such as the delay (departure and arrival), the aim of Travel (business vs perso), the class, the type of flight (short, medium, long haul)..\n",
    "\n",
    "Let's create several groups:\n",
    "\n",
    "- The very dissatisfied (very low mean satisfaction score and unsatisfied)\n",
    "- The dissatisfied\n",
    "- The satisfied \n",
    "- The very satisfied (very high mean satisfaction score and satisfied)\n",
    "\n",
    "(-> represent the different types of profiles with a line)\n",
    "First we compare satisfied and unsatisfied !\n",
    "\n",
    "\n",
    "After we look the very satisfied and very unsatisfied AND what's the profile of the loyal customer or even the customer that takes business class\n"
   ]
  },
  {
   "cell_type": "code",
   "execution_count": 59,
   "metadata": {},
   "outputs": [],
   "source": [
    "from IPython.display import display_html\n",
    "\n",
    "#useful functions\n",
    "def display_side_by_side(*args):\n",
    "    html_str=''\n",
    "    for df in args:\n",
    "        html_str+=df.to_html()\n",
    "    display_html(html_str.replace('table','table style=\"display:inline\"'),raw=True)\n",
    "    \n",
    "def conditional_distributions(df, name):\n",
    "    d1 = pd.crosstab(df.loc[df['satisfaction']=='neutral or dissatisfied', name], df.loc[df['satisfaction']=='neutral or dissatisfied','satisfaction'])\n",
    "    d2 = round(pd.crosstab(df.loc[df['satisfaction']=='neutral or dissatisfied', name], df.loc[df['satisfaction']=='neutral or dissatisfied','satisfaction'], normalize='columns'),2)*100\n",
    "    d3 = pd.crosstab(df.loc[df['satisfaction']=='satisfied', name], df.loc[df['satisfaction']=='satisfied','satisfaction'])\n",
    "    d4 = round(pd.crosstab(df.loc[df['satisfaction']=='satisfied', name], df.loc[df['satisfaction']=='satisfied','satisfaction'], normalize='columns'),2)*100    \n",
    "    df_tmp1 = pd.concat([d1,d2], axis=1, keys=['Effectif', 'Pourcentage'])\n",
    "    df_tmp2 = pd.concat([d3,d4], axis=1, keys=['Effectif', 'Pourcentage'])\n",
    "    display_side_by_side(df_tmp1, df_tmp2)"
   ]
  },
  {
   "cell_type": "markdown",
   "metadata": {},
   "source": [
    "### satisfied / unsatisfied\n",
    "\n",
    "Not interesting: gender (50:50), "
   ]
  },
  {
   "cell_type": "code",
   "execution_count": 60,
   "metadata": {},
   "outputs": [
    {
     "data": {
      "text/html": [
       "<table style=\"display:inline\" border=\"1\" class=\"dataframe\">\n",
       "  <thead>\n",
       "    <tr>\n",
       "      <th></th>\n",
       "      <th>Effectif</th>\n",
       "      <th>Pourcentage</th>\n",
       "    </tr>\n",
       "    <tr>\n",
       "      <th>satisfaction</th>\n",
       "      <th>neutral or dissatisfied</th>\n",
       "      <th>neutral or dissatisfied</th>\n",
       "    </tr>\n",
       "    <tr>\n",
       "      <th>Type of Travel</th>\n",
       "      <th></th>\n",
       "      <th></th>\n",
       "    </tr>\n",
       "  </thead>\n",
       "  <tbody>\n",
       "    <tr>\n",
       "      <th>Business travel</th>\n",
       "      <td>37337</td>\n",
       "      <td>51.0</td>\n",
       "    </tr>\n",
       "    <tr>\n",
       "      <th>Personal Travel</th>\n",
       "      <td>36115</td>\n",
       "      <td>49.0</td>\n",
       "    </tr>\n",
       "  </tbody>\n",
       "</table style=\"display:inline\"><table style=\"display:inline\" border=\"1\" class=\"dataframe\">\n",
       "  <thead>\n",
       "    <tr>\n",
       "      <th></th>\n",
       "      <th>Effectif</th>\n",
       "      <th>Pourcentage</th>\n",
       "    </tr>\n",
       "    <tr>\n",
       "      <th>satisfaction</th>\n",
       "      <th>satisfied</th>\n",
       "      <th>satisfied</th>\n",
       "    </tr>\n",
       "    <tr>\n",
       "      <th>Type of Travel</th>\n",
       "      <th></th>\n",
       "      <th></th>\n",
       "    </tr>\n",
       "  </thead>\n",
       "  <tbody>\n",
       "    <tr>\n",
       "      <th>Business travel</th>\n",
       "      <td>52356</td>\n",
       "      <td>93.0</td>\n",
       "    </tr>\n",
       "    <tr>\n",
       "      <th>Personal Travel</th>\n",
       "      <td>4072</td>\n",
       "      <td>7.0</td>\n",
       "    </tr>\n",
       "  </tbody>\n",
       "</table style=\"display:inline\">"
      ]
     },
     "metadata": {},
     "output_type": "display_data"
    }
   ],
   "source": [
    "conditional_distributions(big_df, 'Type of Travel')"
   ]
  },
  {
   "cell_type": "code",
   "execution_count": 61,
   "metadata": {},
   "outputs": [
    {
     "data": {
      "text/html": [
       "<table style=\"display:inline\" border=\"1\" class=\"dataframe\">\n",
       "  <thead>\n",
       "    <tr>\n",
       "      <th></th>\n",
       "      <th>Effectif</th>\n",
       "      <th>Pourcentage</th>\n",
       "    </tr>\n",
       "    <tr>\n",
       "      <th>satisfaction</th>\n",
       "      <th>neutral or dissatisfied</th>\n",
       "      <th>neutral or dissatisfied</th>\n",
       "    </tr>\n",
       "    <tr>\n",
       "      <th>Customer Type</th>\n",
       "      <th></th>\n",
       "      <th></th>\n",
       "    </tr>\n",
       "  </thead>\n",
       "  <tbody>\n",
       "    <tr>\n",
       "      <th>Loyal Customer</th>\n",
       "      <td>55372</td>\n",
       "      <td>75.0</td>\n",
       "    </tr>\n",
       "    <tr>\n",
       "      <th>disloyal Customer</th>\n",
       "      <td>18080</td>\n",
       "      <td>25.0</td>\n",
       "    </tr>\n",
       "  </tbody>\n",
       "</table style=\"display:inline\"><table style=\"display:inline\" border=\"1\" class=\"dataframe\">\n",
       "  <thead>\n",
       "    <tr>\n",
       "      <th></th>\n",
       "      <th>Effectif</th>\n",
       "      <th>Pourcentage</th>\n",
       "    </tr>\n",
       "    <tr>\n",
       "      <th>satisfaction</th>\n",
       "      <th>satisfied</th>\n",
       "      <th>satisfied</th>\n",
       "    </tr>\n",
       "    <tr>\n",
       "      <th>Customer Type</th>\n",
       "      <th></th>\n",
       "      <th></th>\n",
       "    </tr>\n",
       "  </thead>\n",
       "  <tbody>\n",
       "    <tr>\n",
       "      <th>Loyal Customer</th>\n",
       "      <td>50728</td>\n",
       "      <td>90.0</td>\n",
       "    </tr>\n",
       "    <tr>\n",
       "      <th>disloyal Customer</th>\n",
       "      <td>5700</td>\n",
       "      <td>10.0</td>\n",
       "    </tr>\n",
       "  </tbody>\n",
       "</table style=\"display:inline\">"
      ]
     },
     "metadata": {},
     "output_type": "display_data"
    }
   ],
   "source": [
    "conditional_distributions(big_df, 'Customer Type')"
   ]
  },
  {
   "cell_type": "code",
   "execution_count": 62,
   "metadata": {},
   "outputs": [
    {
     "data": {
      "text/html": [
       "<table style=\"display:inline\" border=\"1\" class=\"dataframe\">\n",
       "  <thead>\n",
       "    <tr>\n",
       "      <th></th>\n",
       "      <th>Effectif</th>\n",
       "      <th>Pourcentage</th>\n",
       "    </tr>\n",
       "    <tr>\n",
       "      <th>satisfaction</th>\n",
       "      <th>neutral or dissatisfied</th>\n",
       "      <th>neutral or dissatisfied</th>\n",
       "    </tr>\n",
       "    <tr>\n",
       "      <th>Class</th>\n",
       "      <th></th>\n",
       "      <th></th>\n",
       "    </tr>\n",
       "  </thead>\n",
       "  <tbody>\n",
       "    <tr>\n",
       "      <th>Business</th>\n",
       "      <td>18994</td>\n",
       "      <td>26.0</td>\n",
       "    </tr>\n",
       "    <tr>\n",
       "      <th>Eco</th>\n",
       "      <td>47366</td>\n",
       "      <td>64.0</td>\n",
       "    </tr>\n",
       "    <tr>\n",
       "      <th>Eco Plus</th>\n",
       "      <td>7092</td>\n",
       "      <td>10.0</td>\n",
       "    </tr>\n",
       "  </tbody>\n",
       "</table style=\"display:inline\"><table style=\"display:inline\" border=\"1\" class=\"dataframe\">\n",
       "  <thead>\n",
       "    <tr>\n",
       "      <th></th>\n",
       "      <th>Effectif</th>\n",
       "      <th>Pourcentage</th>\n",
       "    </tr>\n",
       "    <tr>\n",
       "      <th>satisfaction</th>\n",
       "      <th>satisfied</th>\n",
       "      <th>satisfied</th>\n",
       "    </tr>\n",
       "    <tr>\n",
       "      <th>Class</th>\n",
       "      <th></th>\n",
       "      <th></th>\n",
       "    </tr>\n",
       "  </thead>\n",
       "  <tbody>\n",
       "    <tr>\n",
       "      <th>Business</th>\n",
       "      <td>43166</td>\n",
       "      <td>76.0</td>\n",
       "    </tr>\n",
       "    <tr>\n",
       "      <th>Eco</th>\n",
       "      <td>10943</td>\n",
       "      <td>19.0</td>\n",
       "    </tr>\n",
       "    <tr>\n",
       "      <th>Eco Plus</th>\n",
       "      <td>2319</td>\n",
       "      <td>4.0</td>\n",
       "    </tr>\n",
       "  </tbody>\n",
       "</table style=\"display:inline\">"
      ]
     },
     "metadata": {},
     "output_type": "display_data"
    }
   ],
   "source": [
    "conditional_distributions(big_df, 'Class')"
   ]
  },
  {
   "cell_type": "code",
   "execution_count": 63,
   "metadata": {},
   "outputs": [
    {
     "data": {
      "text/html": [
       "<table style=\"display:inline\" border=\"1\" class=\"dataframe\">\n",
       "  <thead>\n",
       "    <tr>\n",
       "      <th></th>\n",
       "      <th>Effectif</th>\n",
       "      <th>Pourcentage</th>\n",
       "    </tr>\n",
       "    <tr>\n",
       "      <th>satisfaction</th>\n",
       "      <th>neutral or dissatisfied</th>\n",
       "      <th>neutral or dissatisfied</th>\n",
       "    </tr>\n",
       "    <tr>\n",
       "      <th>Age_group</th>\n",
       "      <th></th>\n",
       "      <th></th>\n",
       "    </tr>\n",
       "  </thead>\n",
       "  <tbody>\n",
       "    <tr>\n",
       "      <th>(0-30]</th>\n",
       "      <td>28306</td>\n",
       "      <td>39.0</td>\n",
       "    </tr>\n",
       "    <tr>\n",
       "      <th>(30-50]</th>\n",
       "      <td>27137</td>\n",
       "      <td>37.0</td>\n",
       "    </tr>\n",
       "    <tr>\n",
       "      <th>(&gt; 50)</th>\n",
       "      <td>18009</td>\n",
       "      <td>25.0</td>\n",
       "    </tr>\n",
       "  </tbody>\n",
       "</table style=\"display:inline\"><table style=\"display:inline\" border=\"1\" class=\"dataframe\">\n",
       "  <thead>\n",
       "    <tr>\n",
       "      <th></th>\n",
       "      <th>Effectif</th>\n",
       "      <th>Pourcentage</th>\n",
       "    </tr>\n",
       "    <tr>\n",
       "      <th>satisfaction</th>\n",
       "      <th>satisfied</th>\n",
       "      <th>satisfied</th>\n",
       "    </tr>\n",
       "    <tr>\n",
       "      <th>Age_group</th>\n",
       "      <th></th>\n",
       "      <th></th>\n",
       "    </tr>\n",
       "  </thead>\n",
       "  <tbody>\n",
       "    <tr>\n",
       "      <th>(0-30]</th>\n",
       "      <td>12574</td>\n",
       "      <td>22.0</td>\n",
       "    </tr>\n",
       "    <tr>\n",
       "      <th>(30-50]</th>\n",
       "      <td>28261</td>\n",
       "      <td>50.0</td>\n",
       "    </tr>\n",
       "    <tr>\n",
       "      <th>(&gt; 50)</th>\n",
       "      <td>15593</td>\n",
       "      <td>28.0</td>\n",
       "    </tr>\n",
       "  </tbody>\n",
       "</table style=\"display:inline\">"
      ]
     },
     "metadata": {},
     "output_type": "display_data"
    }
   ],
   "source": [
    "conditional_distributions(big_df,'Age_group')"
   ]
  },
  {
   "cell_type": "code",
   "execution_count": 64,
   "metadata": {},
   "outputs": [
    {
     "data": {
      "text/html": [
       "<table style=\"display:inline\" border=\"1\" class=\"dataframe\">\n",
       "  <thead>\n",
       "    <tr>\n",
       "      <th></th>\n",
       "      <th>Effectif</th>\n",
       "      <th>Pourcentage</th>\n",
       "    </tr>\n",
       "    <tr>\n",
       "      <th>satisfaction</th>\n",
       "      <th>neutral or dissatisfied</th>\n",
       "      <th>neutral or dissatisfied</th>\n",
       "    </tr>\n",
       "    <tr>\n",
       "      <th>Flight Distance_group</th>\n",
       "      <th></th>\n",
       "      <th></th>\n",
       "    </tr>\n",
       "  </thead>\n",
       "  <tbody>\n",
       "    <tr>\n",
       "      <th>Long-haul</th>\n",
       "      <td>2336</td>\n",
       "      <td>3.0</td>\n",
       "    </tr>\n",
       "    <tr>\n",
       "      <th>Medium-haul</th>\n",
       "      <td>20846</td>\n",
       "      <td>28.0</td>\n",
       "    </tr>\n",
       "    <tr>\n",
       "      <th>Short-haul</th>\n",
       "      <td>50270</td>\n",
       "      <td>68.0</td>\n",
       "    </tr>\n",
       "  </tbody>\n",
       "</table style=\"display:inline\"><table style=\"display:inline\" border=\"1\" class=\"dataframe\">\n",
       "  <thead>\n",
       "    <tr>\n",
       "      <th></th>\n",
       "      <th>Effectif</th>\n",
       "      <th>Pourcentage</th>\n",
       "    </tr>\n",
       "    <tr>\n",
       "      <th>satisfaction</th>\n",
       "      <th>satisfied</th>\n",
       "      <th>satisfied</th>\n",
       "    </tr>\n",
       "    <tr>\n",
       "      <th>Flight Distance_group</th>\n",
       "      <th></th>\n",
       "      <th></th>\n",
       "    </tr>\n",
       "  </thead>\n",
       "  <tbody>\n",
       "    <tr>\n",
       "      <th>Long-haul</th>\n",
       "      <td>7977</td>\n",
       "      <td>14.0</td>\n",
       "    </tr>\n",
       "    <tr>\n",
       "      <th>Medium-haul</th>\n",
       "      <td>23618</td>\n",
       "      <td>42.0</td>\n",
       "    </tr>\n",
       "    <tr>\n",
       "      <th>Short-haul</th>\n",
       "      <td>24833</td>\n",
       "      <td>44.0</td>\n",
       "    </tr>\n",
       "  </tbody>\n",
       "</table style=\"display:inline\">"
      ]
     },
     "metadata": {},
     "output_type": "display_data"
    }
   ],
   "source": [
    "conditional_distributions(big_df, 'Flight Distance_group')"
   ]
  },
  {
   "cell_type": "code",
   "execution_count": 65,
   "metadata": {},
   "outputs": [
    {
     "data": {
      "text/html": [
       "<table style=\"display:inline\" border=\"1\" class=\"dataframe\">\n",
       "  <thead>\n",
       "    <tr>\n",
       "      <th></th>\n",
       "      <th>Effectif</th>\n",
       "      <th>Pourcentage</th>\n",
       "    </tr>\n",
       "    <tr>\n",
       "      <th>satisfaction</th>\n",
       "      <th>neutral or dissatisfied</th>\n",
       "      <th>neutral or dissatisfied</th>\n",
       "    </tr>\n",
       "    <tr>\n",
       "      <th>total_delay_group</th>\n",
       "      <th></th>\n",
       "      <th></th>\n",
       "    </tr>\n",
       "  </thead>\n",
       "  <tbody>\n",
       "    <tr>\n",
       "      <th>less_than_10min_late</th>\n",
       "      <td>13303</td>\n",
       "      <td>18.0</td>\n",
       "    </tr>\n",
       "    <tr>\n",
       "      <th>more_than_10min_late</th>\n",
       "      <td>28716</td>\n",
       "      <td>39.0</td>\n",
       "    </tr>\n",
       "    <tr>\n",
       "      <th>on_time</th>\n",
       "      <td>31433</td>\n",
       "      <td>43.0</td>\n",
       "    </tr>\n",
       "  </tbody>\n",
       "</table style=\"display:inline\"><table style=\"display:inline\" border=\"1\" class=\"dataframe\">\n",
       "  <thead>\n",
       "    <tr>\n",
       "      <th></th>\n",
       "      <th>Effectif</th>\n",
       "      <th>Pourcentage</th>\n",
       "    </tr>\n",
       "    <tr>\n",
       "      <th>satisfaction</th>\n",
       "      <th>satisfied</th>\n",
       "      <th>satisfied</th>\n",
       "    </tr>\n",
       "    <tr>\n",
       "      <th>total_delay_group</th>\n",
       "      <th></th>\n",
       "      <th></th>\n",
       "    </tr>\n",
       "  </thead>\n",
       "  <tbody>\n",
       "    <tr>\n",
       "      <th>less_than_10min_late</th>\n",
       "      <td>11177</td>\n",
       "      <td>20.0</td>\n",
       "    </tr>\n",
       "    <tr>\n",
       "      <th>more_than_10min_late</th>\n",
       "      <td>17186</td>\n",
       "      <td>30.0</td>\n",
       "    </tr>\n",
       "    <tr>\n",
       "      <th>on_time</th>\n",
       "      <td>28065</td>\n",
       "      <td>50.0</td>\n",
       "    </tr>\n",
       "  </tbody>\n",
       "</table style=\"display:inline\">"
      ]
     },
     "metadata": {},
     "output_type": "display_data"
    }
   ],
   "source": [
    "#suprisingly, the total delay doesn't have much impact!!\n",
    "conditional_distributions(big_df, 'total_delay_group')"
   ]
  },
  {
   "cell_type": "code",
   "execution_count": 66,
   "metadata": {},
   "outputs": [
    {
     "name": "stdout",
     "output_type": "stream",
     "text": [
      "Comparison of the mean satisfaction, satisfied 3.62 vs dissatisfied 2.95\n"
     ]
    }
   ],
   "source": [
    "s = big_df.loc[big_df.satisfaction == 'satisfied', 'mean_satisfaction'].mean()\n",
    "us = big_df.loc[big_df.satisfaction != 'satisfied', 'mean_satisfaction'].mean()\n",
    "print(f'Comparison of the mean satisfaction, satisfied {s:.2f} vs dissatisfied {us:.2f}')"
   ]
  },
  {
   "cell_type": "markdown",
   "metadata": {},
   "source": [
    "\n",
    "\n",
    "\n",
    "\n",
    "\n",
    "\n",
    "# BIVARIATE DATA-ANALYSIS"
   ]
  },
  {
   "cell_type": "markdown",
   "metadata": {},
   "source": [
    "28 variables => 2 among 28 pairs "
   ]
  },
  {
   "cell_type": "code",
   "execution_count": 67,
   "metadata": {},
   "outputs": [],
   "source": [
    "sat_idx = ['Inflight wifi service','Departure/Arrival time convenient',\n",
    "           'Ease of Online booking','Gate location',\n",
    "           'Food and drink','Online boarding','Seat comfort',\n",
    "           'Inflight entertainment','On-board service',\n",
    "           'Leg room service','Baggage handling',\n",
    "           'Checkin service','Inflight service','Cleanliness']"
   ]
  },
  {
   "cell_type": "code",
   "execution_count": 68,
   "metadata": {},
   "outputs": [
    {
     "name": "stdout",
     "output_type": "stream",
     "text": [
      "numerical variables: ['Age', 'Flight Distance', 'Departure Delay in Minutes', 'Arrival Delay in Minutes', 'total_delay', 'mean_satisfaction'], len: 6\n"
     ]
    }
   ],
   "source": [
    "num_idx = list(big_df.dtypes[big_df.dtypes != 'category'].index)\n",
    "num_idx.remove('id')\n",
    "for x in sat_idx:\n",
    "    num_idx.remove(x)\n",
    "print(f'numerical variables: {num_idx}, len: {len(num_idx)}')"
   ]
  },
  {
   "cell_type": "code",
   "execution_count": 69,
   "metadata": {
    "scrolled": true
   },
   "outputs": [
    {
     "name": "stdout",
     "output_type": "stream",
     "text": [
      "categorical variables: ['Gender', 'Customer Type', 'Type of Travel', 'Class', 'satisfaction', 'Age_group', 'Flight Distance_group', 'Departure Delay in Minutes_group', 'Arrival Delay in Minutes_group', 'total_delay_group'], len: 10\n"
     ]
    }
   ],
   "source": [
    "cat_idx = list(big_df.dtypes[big_df.dtypes == 'category'].index)\n",
    "print(f'categorical variables: {cat_idx}, len: {len(cat_idx)}')"
   ]
  },
  {
   "cell_type": "markdown",
   "metadata": {},
   "source": [
    "### num/num"
   ]
  },
  {
   "cell_type": "code",
   "execution_count": 154,
   "metadata": {},
   "outputs": [
    {
     "data": {
      "text/plain": [
       "''"
      ]
     },
     "execution_count": 154,
     "metadata": {},
     "output_type": "execute_result"
    },
    {
     "data": {
      "image/png": "[encoded data removed]",
      "text/plain": [
       "<Figure size 432x288 with 1 Axes>"
      ]
     },
     "metadata": {
      "needs_background": "light"
     },
     "output_type": "display_data"
    }
   ],
   "source": [
    "corr =  big_df['Departure Delay in Minutes'].corr(big_df['Arrival Delay in Minutes'])\n",
    "fig ,ax = plt.subplots()\n",
    "ax.scatter(big_df['Departure Delay in Minutes'], big_df['Arrival Delay in Minutes'])\n",
    "#ax.set_title('Scatter departure / arrival delay')\n",
    "ax.text(1200, 200, f'correlation: {corr:.2f}')\n",
    "ax.set_xlabel('departure delay')\n",
    "ax.set_ylabel('arrival delay')\n",
    "plt.savefig('images/scatter.png')\n",
    ";"
   ]
  },
  {
   "cell_type": "markdown",
   "metadata": {},
   "source": [
    "Without Many suprise the delay at derparture is strongly and positively corrolated to the arrival's delay"
   ]
  },
  {
   "cell_type": "code",
   "execution_count": 157,
   "metadata": {},
   "outputs": [
    {
     "data": {
      "text/plain": [
       "''"
      ]
     },
     "execution_count": 157,
     "metadata": {},
     "output_type": "execute_result"
    },
    {
     "data": {
      "image/png": "[encoded data removed]",
      "text/plain": [
       "<Figure size 432x288 with 1 Axes>"
      ]
     },
     "metadata": {
      "needs_background": "light"
     },
     "output_type": "display_data"
    }
   ],
   "source": [
    "corr =  big_df['total_delay'].corr(big_df['Flight Distance'])\n",
    "fig ,ax = plt.subplots()\n",
    "ax.scatter(big_df['total_delay'], big_df['Flight Distance'])\n",
    "#ax.set_title('Scatter total delay / fligh distance')\n",
    "ax.text(2000, 200, f'correlation: {corr:.2f}')\n",
    "ax.set_xlabel('total delay')\n",
    "ax.set_ylabel('flight distance')\n",
    "plt.savefig('images/scatter_delay_dist.png')\n",
    ";"
   ]
  },
  {
   "cell_type": "markdown",
   "metadata": {},
   "source": [
    "### num/cat"
   ]
  },
  {
   "cell_type": "code",
   "execution_count": 72,
   "metadata": {},
   "outputs": [
    {
     "data": {
      "text/plain": [
       "id                                      int64\n",
       "Gender                               category\n",
       "Customer Type                        category\n",
       "Age                                     int64\n",
       "Type of Travel                       category\n",
       "Class                                category\n",
       "Flight Distance                         int64\n",
       "Inflight wifi service                   int64\n",
       "Departure/Arrival time convenient       int64\n",
       "Ease of Online booking                  int64\n",
       "Gate location                           int64\n",
       "Food and drink                          int64\n",
       "Online boarding                         int64\n",
       "Seat comfort                            int64\n",
       "Inflight entertainment                  int64\n",
       "On-board service                        int64\n",
       "Leg room service                        int64\n",
       "Baggage handling                        int64\n",
       "Checkin service                         int64\n",
       "Inflight service                        int64\n",
       "Cleanliness                             int64\n",
       "Departure Delay in Minutes            float64\n",
       "Arrival Delay in Minutes              float64\n",
       "satisfaction                         category\n",
       "Age_group                            category\n",
       "Flight Distance_group                category\n",
       "Departure Delay in Minutes_group     category\n",
       "Arrival Delay in Minutes_group       category\n",
       "total_delay                           float64\n",
       "total_delay_group                    category\n",
       "mean_satisfaction                     float64\n",
       "dtype: object"
      ]
     },
     "execution_count": 72,
     "metadata": {},
     "output_type": "execute_result"
    }
   ],
   "source": [
    "big_df.dtypes"
   ]
  },
  {
   "cell_type": "code",
   "execution_count": 73,
   "metadata": {},
   "outputs": [
    {
     "name": "stderr",
     "output_type": "stream",
     "text": [
      "c:\\users\\colab1\\miniconda3\\lib\\site-packages\\seaborn\\_decorators.py:36: FutureWarning: Pass the following variables as keyword args: x, y. From version 0.12, the only valid positional argument will be `data`, and passing other arguments without an explicit keyword will result in an error or misinterpretation.\n",
      "  warnings.warn(\n"
     ]
    },
    {
     "data": {
      "text/plain": [
       "''"
      ]
     },
     "execution_count": 73,
     "metadata": {},
     "output_type": "execute_result"
    },
    {
     "data": {
      "image/png": "[encoded data removed]",
      "text/plain": [
       "<Figure size 432x288 with 1 Axes>"
      ]
     },
     "metadata": {
      "needs_background": "light"
     },
     "output_type": "display_data"
    }
   ],
   "source": [
    "#flight_distance/Customer type\n",
    "#are your loyal customers more likely to do long / short haul? \n",
    "fig, ax = plt.subplots()\n",
    "sns.boxplot(big_df['Customer Type'], big_df['Flight Distance'])\n",
    "ax.set_title('Boxplot flight distance vs customer type')\n",
    ";"
   ]
  },
  {
   "cell_type": "markdown",
   "metadata": {},
   "source": [
    "Your loyal customers are more likely to do long flight distances. The median is higher for the loyal customer"
   ]
  },
  {
   "cell_type": "code",
   "execution_count": 74,
   "metadata": {},
   "outputs": [
    {
     "name": "stderr",
     "output_type": "stream",
     "text": [
      "c:\\users\\colab1\\miniconda3\\lib\\site-packages\\seaborn\\_decorators.py:36: FutureWarning: Pass the following variables as keyword args: x, y. From version 0.12, the only valid positional argument will be `data`, and passing other arguments without an explicit keyword will result in an error or misinterpretation.\n",
      "  warnings.warn(\n"
     ]
    },
    {
     "data": {
      "text/plain": [
       "''"
      ]
     },
     "execution_count": 74,
     "metadata": {},
     "output_type": "execute_result"
    },
    {
     "data": {
      "image/png": "[encoded data removed]",
      "text/plain": [
       "<Figure size 432x288 with 1 Axes>"
      ]
     },
     "metadata": {
      "needs_background": "light"
     },
     "output_type": "display_data"
    }
   ],
   "source": [
    "#flight_distance/class\n",
    "#there should be more business for long distance \n",
    "fig, ax = plt.subplots()\n",
    "sns.boxplot(big_df['Class'], big_df['Flight Distance'])\n",
    "ax.set_title('Boxplot flight distance vs class')\n",
    ";"
   ]
  },
  {
   "cell_type": "markdown",
   "metadata": {},
   "source": [
    "Without surprise, Business individuals tend to do more long hauls than the other categories"
   ]
  },
  {
   "cell_type": "code",
   "execution_count": 75,
   "metadata": {},
   "outputs": [
    {
     "name": "stderr",
     "output_type": "stream",
     "text": [
      "c:\\users\\colab1\\miniconda3\\lib\\site-packages\\seaborn\\_decorators.py:36: FutureWarning: Pass the following variables as keyword args: x, y. From version 0.12, the only valid positional argument will be `data`, and passing other arguments without an explicit keyword will result in an error or misinterpretation.\n",
      "  warnings.warn(\n"
     ]
    },
    {
     "data": {
      "text/plain": [
       "''"
      ]
     },
     "execution_count": 75,
     "metadata": {},
     "output_type": "execute_result"
    },
    {
     "data": {
      "image/png": "[encoded data removed]",
      "text/plain": [
       "<Figure size 432x288 with 1 Axes>"
      ]
     },
     "metadata": {
      "needs_background": "light"
     },
     "output_type": "display_data"
    }
   ],
   "source": [
    "#total_delay/flight_distance\n",
    "#is their more chance to be late on short or on long distance flights?\n",
    "fig, ax = plt.subplots()\n",
    "sns.boxplot(big_df['total_delay_group'], big_df['Flight Distance'])\n",
    "ax.set_title('Boxplot flight distance vs delay')\n",
    ";"
   ]
  },
  {
   "cell_type": "markdown",
   "metadata": {},
   "source": [
    "The delay doesn't seems to be corrolated with the flight distance. That means that you have almsot equal chance to arrive on time with a long haul and a short haul. This is quite surprising"
   ]
  },
  {
   "cell_type": "markdown",
   "metadata": {},
   "source": [
    "### cat/cat\n",
    "\n",
    "\n",
    "**What is the profil of the Loyal customer?**\n",
    "(we will also use some numerical variables)"
   ]
  },
  {
   "cell_type": "code",
   "execution_count": 76,
   "metadata": {},
   "outputs": [
    {
     "name": "stdout",
     "output_type": "stream",
     "text": [
      "Loyal: 106100, disloyal: 23780\n",
      "Loyal: 81.69%, disloyal: 18.31%\n"
     ]
    }
   ],
   "source": [
    "#numerical information for the loyal customers??\n",
    "#loyal customers\n",
    "lc = big_df.loc[big_df['Customer Type'] == 'Loyal Customer', :]\n",
    "#disloyal customers\n",
    "dc = big_df.loc[big_df['Customer Type'] == 'disloyal Customer', :]\n",
    "\n",
    "#distribution\n",
    "print(f'Loyal: {lc.shape[0]}, disloyal: {dc.shape[0]}')\n",
    "print(f'Loyal: {lc.shape[0]/(lc.shape[0]+dc.shape[0])*100:.2f}%, disloyal: {dc.shape[0]/(lc.shape[0]+dc.shape[0])*100:.2f}%')\n",
    "#Most of the customers are loyal! This seems to be a great idea to know more about them"
   ]
  },
  {
   "cell_type": "code",
   "execution_count": 77,
   "metadata": {},
   "outputs": [
    {
     "data": {
      "text/plain": [
       "['Gender',\n",
       " 'Customer Type',\n",
       " 'Type of Travel',\n",
       " 'Class',\n",
       " 'satisfaction',\n",
       " 'Age_group',\n",
       " 'Flight Distance_group',\n",
       " 'Departure Delay in Minutes_group',\n",
       " 'Arrival Delay in Minutes_group',\n",
       " 'total_delay_group']"
      ]
     },
     "execution_count": 77,
     "metadata": {},
     "output_type": "execute_result"
    }
   ],
   "source": [
    "cat_idx"
   ]
  },
  {
   "cell_type": "code",
   "execution_count": 78,
   "metadata": {},
   "outputs": [],
   "source": [
    "#modifying the function for the Loyal vs disloyal cust\n",
    "def conditional_distributions(df, name):\n",
    "    d1 = pd.crosstab(df.loc[df['Customer Type']=='disloyal Customer', name], df.loc[df['Customer Type']=='disloyal Customer','Customer Type'])\n",
    "    d2 = round(pd.crosstab(df.loc[df['Customer Type']=='disloyal Customer', name], df.loc[df['Customer Type']=='disloyal Customer','Customer Type'], normalize='columns'),2)*100\n",
    "    d3 = pd.crosstab(df.loc[df['Customer Type']=='Loyal Customer', name], df.loc[df['Customer Type']=='Loyal Customer','Customer Type'])\n",
    "    d4 = round(pd.crosstab(df.loc[df['Customer Type']=='Loyal Customer', name], df.loc[df['Customer Type']=='Loyal Customer','Customer Type'], normalize='columns'),2)*100    \n",
    "    df_tmp1 = pd.concat([d1,d2], axis=1, keys=['Effectif', 'Pourcentage'])\n",
    "    df_tmp2 = pd.concat([d3,d4], axis=1, keys=['Effectif', 'Pourcentage'])\n",
    "    display_side_by_side(df_tmp1, df_tmp2)"
   ]
  },
  {
   "cell_type": "code",
   "execution_count": 79,
   "metadata": {},
   "outputs": [
    {
     "data": {
      "text/html": [
       "<table style=\"display:inline\" border=\"1\" class=\"dataframe\">\n",
       "  <thead>\n",
       "    <tr>\n",
       "      <th></th>\n",
       "      <th>Effectif</th>\n",
       "      <th>Pourcentage</th>\n",
       "    </tr>\n",
       "    <tr>\n",
       "      <th>Customer Type</th>\n",
       "      <th>disloyal Customer</th>\n",
       "      <th>disloyal Customer</th>\n",
       "    </tr>\n",
       "    <tr>\n",
       "      <th>Age_group</th>\n",
       "      <th></th>\n",
       "      <th></th>\n",
       "    </tr>\n",
       "  </thead>\n",
       "  <tbody>\n",
       "    <tr>\n",
       "      <th>(0-30]</th>\n",
       "      <td>14764</td>\n",
       "      <td>62.0</td>\n",
       "    </tr>\n",
       "    <tr>\n",
       "      <th>(30-50]</th>\n",
       "      <td>7781</td>\n",
       "      <td>33.0</td>\n",
       "    </tr>\n",
       "    <tr>\n",
       "      <th>(&gt; 50)</th>\n",
       "      <td>1235</td>\n",
       "      <td>5.0</td>\n",
       "    </tr>\n",
       "  </tbody>\n",
       "</table style=\"display:inline\"><table style=\"display:inline\" border=\"1\" class=\"dataframe\">\n",
       "  <thead>\n",
       "    <tr>\n",
       "      <th></th>\n",
       "      <th>Effectif</th>\n",
       "      <th>Pourcentage</th>\n",
       "    </tr>\n",
       "    <tr>\n",
       "      <th>Customer Type</th>\n",
       "      <th>Loyal Customer</th>\n",
       "      <th>Loyal Customer</th>\n",
       "    </tr>\n",
       "    <tr>\n",
       "      <th>Age_group</th>\n",
       "      <th></th>\n",
       "      <th></th>\n",
       "    </tr>\n",
       "  </thead>\n",
       "  <tbody>\n",
       "    <tr>\n",
       "      <th>(0-30]</th>\n",
       "      <td>26116</td>\n",
       "      <td>25.0</td>\n",
       "    </tr>\n",
       "    <tr>\n",
       "      <th>(30-50]</th>\n",
       "      <td>47617</td>\n",
       "      <td>45.0</td>\n",
       "    </tr>\n",
       "    <tr>\n",
       "      <th>(&gt; 50)</th>\n",
       "      <td>32367</td>\n",
       "      <td>31.0</td>\n",
       "    </tr>\n",
       "  </tbody>\n",
       "</table style=\"display:inline\">"
      ]
     },
     "metadata": {},
     "output_type": "display_data"
    }
   ],
   "source": [
    "#age_group\n",
    "conditional_distributions(big_df, 'Age_group')"
   ]
  },
  {
   "cell_type": "markdown",
   "metadata": {},
   "source": [
    "Loyal customers tend to be older, mainly over 30 years old"
   ]
  },
  {
   "cell_type": "code",
   "execution_count": 80,
   "metadata": {},
   "outputs": [
    {
     "data": {
      "text/html": [
       "<table style=\"display:inline\" border=\"1\" class=\"dataframe\">\n",
       "  <thead>\n",
       "    <tr>\n",
       "      <th></th>\n",
       "      <th>Effectif</th>\n",
       "      <th>Pourcentage</th>\n",
       "    </tr>\n",
       "    <tr>\n",
       "      <th>Customer Type</th>\n",
       "      <th>disloyal Customer</th>\n",
       "      <th>disloyal Customer</th>\n",
       "    </tr>\n",
       "    <tr>\n",
       "      <th>Type of Travel</th>\n",
       "      <th></th>\n",
       "      <th></th>\n",
       "    </tr>\n",
       "  </thead>\n",
       "  <tbody>\n",
       "    <tr>\n",
       "      <th>Business travel</th>\n",
       "      <td>23579</td>\n",
       "      <td>99.0</td>\n",
       "    </tr>\n",
       "    <tr>\n",
       "      <th>Personal Travel</th>\n",
       "      <td>201</td>\n",
       "      <td>1.0</td>\n",
       "    </tr>\n",
       "  </tbody>\n",
       "</table style=\"display:inline\"><table style=\"display:inline\" border=\"1\" class=\"dataframe\">\n",
       "  <thead>\n",
       "    <tr>\n",
       "      <th></th>\n",
       "      <th>Effectif</th>\n",
       "      <th>Pourcentage</th>\n",
       "    </tr>\n",
       "    <tr>\n",
       "      <th>Customer Type</th>\n",
       "      <th>Loyal Customer</th>\n",
       "      <th>Loyal Customer</th>\n",
       "    </tr>\n",
       "    <tr>\n",
       "      <th>Type of Travel</th>\n",
       "      <th></th>\n",
       "      <th></th>\n",
       "    </tr>\n",
       "  </thead>\n",
       "  <tbody>\n",
       "    <tr>\n",
       "      <th>Business travel</th>\n",
       "      <td>66114</td>\n",
       "      <td>62.0</td>\n",
       "    </tr>\n",
       "    <tr>\n",
       "      <th>Personal Travel</th>\n",
       "      <td>39986</td>\n",
       "      <td>38.0</td>\n",
       "    </tr>\n",
       "  </tbody>\n",
       "</table style=\"display:inline\">"
      ]
     },
     "metadata": {},
     "output_type": "display_data"
    }
   ],
   "source": [
    "#Type of travel\n",
    "conditional_distributions(big_df, 'Type of Travel')"
   ]
  },
  {
   "cell_type": "markdown",
   "metadata": {},
   "source": [
    "Suprisingly, almost all the disloyal customers fly for business purposes while it's 60:40 for loyal customers. It means that many people also use the loyal offering for personal travels"
   ]
  },
  {
   "cell_type": "code",
   "execution_count": 81,
   "metadata": {},
   "outputs": [
    {
     "data": {
      "text/html": [
       "<table style=\"display:inline\" border=\"1\" class=\"dataframe\">\n",
       "  <thead>\n",
       "    <tr>\n",
       "      <th></th>\n",
       "      <th>Effectif</th>\n",
       "      <th>Pourcentage</th>\n",
       "    </tr>\n",
       "    <tr>\n",
       "      <th>Customer Type</th>\n",
       "      <th>disloyal Customer</th>\n",
       "      <th>disloyal Customer</th>\n",
       "    </tr>\n",
       "    <tr>\n",
       "      <th>Class</th>\n",
       "      <th></th>\n",
       "      <th></th>\n",
       "    </tr>\n",
       "  </thead>\n",
       "  <tbody>\n",
       "    <tr>\n",
       "      <th>Business</th>\n",
       "      <td>9231</td>\n",
       "      <td>39.0</td>\n",
       "    </tr>\n",
       "    <tr>\n",
       "      <th>Eco</th>\n",
       "      <td>13634</td>\n",
       "      <td>57.0</td>\n",
       "    </tr>\n",
       "    <tr>\n",
       "      <th>Eco Plus</th>\n",
       "      <td>915</td>\n",
       "      <td>4.0</td>\n",
       "    </tr>\n",
       "  </tbody>\n",
       "</table style=\"display:inline\"><table style=\"display:inline\" border=\"1\" class=\"dataframe\">\n",
       "  <thead>\n",
       "    <tr>\n",
       "      <th></th>\n",
       "      <th>Effectif</th>\n",
       "      <th>Pourcentage</th>\n",
       "    </tr>\n",
       "    <tr>\n",
       "      <th>Customer Type</th>\n",
       "      <th>Loyal Customer</th>\n",
       "      <th>Loyal Customer</th>\n",
       "    </tr>\n",
       "    <tr>\n",
       "      <th>Class</th>\n",
       "      <th></th>\n",
       "      <th></th>\n",
       "    </tr>\n",
       "  </thead>\n",
       "  <tbody>\n",
       "    <tr>\n",
       "      <th>Business</th>\n",
       "      <td>52929</td>\n",
       "      <td>50.0</td>\n",
       "    </tr>\n",
       "    <tr>\n",
       "      <th>Eco</th>\n",
       "      <td>44675</td>\n",
       "      <td>42.0</td>\n",
       "    </tr>\n",
       "    <tr>\n",
       "      <th>Eco Plus</th>\n",
       "      <td>8496</td>\n",
       "      <td>8.0</td>\n",
       "    </tr>\n",
       "  </tbody>\n",
       "</table style=\"display:inline\">"
      ]
     },
     "metadata": {},
     "output_type": "display_data"
    }
   ],
   "source": [
    "#Class\n",
    "conditional_distributions(big_df, 'Class')"
   ]
  },
  {
   "cell_type": "markdown",
   "metadata": {},
   "source": [
    "Only one info: Eco plus not really represented"
   ]
  },
  {
   "cell_type": "code",
   "execution_count": 82,
   "metadata": {},
   "outputs": [
    {
     "data": {
      "text/html": [
       "<table style=\"display:inline\" border=\"1\" class=\"dataframe\">\n",
       "  <thead>\n",
       "    <tr>\n",
       "      <th></th>\n",
       "      <th>Effectif</th>\n",
       "      <th>Pourcentage</th>\n",
       "    </tr>\n",
       "    <tr>\n",
       "      <th>Customer Type</th>\n",
       "      <th>disloyal Customer</th>\n",
       "      <th>disloyal Customer</th>\n",
       "    </tr>\n",
       "    <tr>\n",
       "      <th>Flight Distance_group</th>\n",
       "      <th></th>\n",
       "      <th></th>\n",
       "    </tr>\n",
       "  </thead>\n",
       "  <tbody>\n",
       "    <tr>\n",
       "      <th>Long-haul</th>\n",
       "      <td>24</td>\n",
       "      <td>0.0</td>\n",
       "    </tr>\n",
       "    <tr>\n",
       "      <th>Medium-haul</th>\n",
       "      <td>5445</td>\n",
       "      <td>23.0</td>\n",
       "    </tr>\n",
       "    <tr>\n",
       "      <th>Short-haul</th>\n",
       "      <td>18311</td>\n",
       "      <td>77.0</td>\n",
       "    </tr>\n",
       "  </tbody>\n",
       "</table style=\"display:inline\"><table style=\"display:inline\" border=\"1\" class=\"dataframe\">\n",
       "  <thead>\n",
       "    <tr>\n",
       "      <th></th>\n",
       "      <th>Effectif</th>\n",
       "      <th>Pourcentage</th>\n",
       "    </tr>\n",
       "    <tr>\n",
       "      <th>Customer Type</th>\n",
       "      <th>Loyal Customer</th>\n",
       "      <th>Loyal Customer</th>\n",
       "    </tr>\n",
       "    <tr>\n",
       "      <th>Flight Distance_group</th>\n",
       "      <th></th>\n",
       "      <th></th>\n",
       "    </tr>\n",
       "  </thead>\n",
       "  <tbody>\n",
       "    <tr>\n",
       "      <th>Long-haul</th>\n",
       "      <td>10289</td>\n",
       "      <td>10.0</td>\n",
       "    </tr>\n",
       "    <tr>\n",
       "      <th>Medium-haul</th>\n",
       "      <td>39019</td>\n",
       "      <td>37.0</td>\n",
       "    </tr>\n",
       "    <tr>\n",
       "      <th>Short-haul</th>\n",
       "      <td>56792</td>\n",
       "      <td>54.0</td>\n",
       "    </tr>\n",
       "  </tbody>\n",
       "</table style=\"display:inline\">"
      ]
     },
     "metadata": {},
     "output_type": "display_data"
    }
   ],
   "source": [
    "#Flight Distance Group\n",
    "conditional_distributions(big_df, 'Flight Distance_group')"
   ]
  },
  {
   "cell_type": "markdown",
   "metadata": {},
   "source": [
    "Loyal customer does more Long and medium haul"
   ]
  },
  {
   "cell_type": "markdown",
   "metadata": {},
   "source": [
    "# II. PREDICTIONS\n"
   ]
  },
  {
   "cell_type": "code",
   "execution_count": 83,
   "metadata": {},
   "outputs": [
    {
     "name": "stdout",
     "output_type": "stream",
     "text": [
      "df: (129880, 30), y:(129880,)\n"
     ]
    }
   ],
   "source": [
    "#we seperate the dependent variable from the dataframe\n",
    "y = big_df['satisfaction']\n",
    "df = big_df.copy()\n",
    "df = df.drop(['satisfaction'], axis=1)\n",
    "\n",
    "print(f'df: {df.shape}, y:{y.shape}')"
   ]
  },
  {
   "cell_type": "markdown",
   "metadata": {},
   "source": [
    "## DUMMY VARIABLES\n"
   ]
  },
  {
   "cell_type": "code",
   "execution_count": 84,
   "metadata": {},
   "outputs": [
    {
     "data": {
      "text/plain": [
       "(129880, 45)"
      ]
     },
     "execution_count": 84,
     "metadata": {},
     "output_type": "execute_result"
    }
   ],
   "source": [
    "df = pd.get_dummies(df)\n",
    "df.shape"
   ]
  },
  {
   "cell_type": "code",
   "execution_count": 85,
   "metadata": {},
   "outputs": [
    {
     "data": {
      "text/plain": [
       "id                                                         int64\n",
       "Age                                                        int64\n",
       "Flight Distance                                            int64\n",
       "Inflight wifi service                                      int64\n",
       "Departure/Arrival time convenient                          int64\n",
       "Ease of Online booking                                     int64\n",
       "Gate location                                              int64\n",
       "Food and drink                                             int64\n",
       "Online boarding                                            int64\n",
       "Seat comfort                                               int64\n",
       "Inflight entertainment                                     int64\n",
       "On-board service                                           int64\n",
       "Leg room service                                           int64\n",
       "Baggage handling                                           int64\n",
       "Checkin service                                            int64\n",
       "Inflight service                                           int64\n",
       "Cleanliness                                                int64\n",
       "Departure Delay in Minutes                               float64\n",
       "Arrival Delay in Minutes                                 float64\n",
       "total_delay                                              float64\n",
       "mean_satisfaction                                        float64\n",
       "Gender_Female                                              uint8\n",
       "Gender_Male                                                uint8\n",
       "Customer Type_Loyal Customer                               uint8\n",
       "Customer Type_disloyal Customer                            uint8\n",
       "Type of Travel_Business travel                             uint8\n",
       "Type of Travel_Personal Travel                             uint8\n",
       "Class_Business                                             uint8\n",
       "Class_Eco                                                  uint8\n",
       "Class_Eco Plus                                             uint8\n",
       "Age_group_(0-30]                                           uint8\n",
       "Age_group_(30-50]                                          uint8\n",
       "Age_group_(> 50)                                           uint8\n",
       "Flight Distance_group_Long-haul                            uint8\n",
       "Flight Distance_group_Medium-haul                          uint8\n",
       "Flight Distance_group_Short-haul                           uint8\n",
       "Departure Delay in Minutes_group_less_than_10min_late      uint8\n",
       "Departure Delay in Minutes_group_more_than_10min_late      uint8\n",
       "Departure Delay in Minutes_group_on_time                   uint8\n",
       "Arrival Delay in Minutes_group_less_than_10min_late        uint8\n",
       "Arrival Delay in Minutes_group_more_than_10min_late        uint8\n",
       "Arrival Delay in Minutes_group_on_time                     uint8\n",
       "total_delay_group_less_than_10min_late                     uint8\n",
       "total_delay_group_more_than_10min_late                     uint8\n",
       "total_delay_group_on_time                                  uint8\n",
       "dtype: object"
      ]
     },
     "execution_count": 85,
     "metadata": {},
     "output_type": "execute_result"
    }
   ],
   "source": [
    "df.dtypes"
   ]
  },
  {
   "cell_type": "markdown",
   "metadata": {},
   "source": [
    "## PREPROCESSING: STANDARDIZATION\n",
    "    \n",
    "Scaled data has zero mean and unit variance"
   ]
  },
  {
   "cell_type": "code",
   "execution_count": 86,
   "metadata": {},
   "outputs": [],
   "source": [
    "from sklearn import preprocessing"
   ]
  },
  {
   "cell_type": "code",
   "execution_count": 87,
   "metadata": {},
   "outputs": [],
   "source": [
    "df = pd.DataFrame(preprocessing.scale(df), columns=df.columns)"
   ]
  },
  {
   "cell_type": "code",
   "execution_count": 88,
   "metadata": {},
   "outputs": [
    {
     "data": {
      "text/html": [
       "<div>\n",
       "<style scoped>\n",
       "    .dataframe tbody tr th:only-of-type {\n",
       "        vertical-align: middle;\n",
       "    }\n",
       "\n",
       "    .dataframe tbody tr th {\n",
       "        vertical-align: top;\n",
       "    }\n",
       "\n",
       "    .dataframe thead th {\n",
       "        text-align: right;\n",
       "    }\n",
       "</style>\n",
       "<table border=\"1\" class=\"dataframe\">\n",
       "  <thead>\n",
       "    <tr style=\"text-align: right;\">\n",
       "      <th></th>\n",
       "      <th>id</th>\n",
       "      <th>Age</th>\n",
       "      <th>Flight Distance</th>\n",
       "      <th>Inflight wifi service</th>\n",
       "      <th>Departure/Arrival time convenient</th>\n",
       "      <th>Ease of Online booking</th>\n",
       "      <th>Gate location</th>\n",
       "      <th>Food and drink</th>\n",
       "      <th>Online boarding</th>\n",
       "      <th>Seat comfort</th>\n",
       "      <th>...</th>\n",
       "      <th>Flight Distance_group_Short-haul</th>\n",
       "      <th>Departure Delay in Minutes_group_less_than_10min_late</th>\n",
       "      <th>Departure Delay in Minutes_group_more_than_10min_late</th>\n",
       "      <th>Departure Delay in Minutes_group_on_time</th>\n",
       "      <th>Arrival Delay in Minutes_group_less_than_10min_late</th>\n",
       "      <th>Arrival Delay in Minutes_group_more_than_10min_late</th>\n",
       "      <th>Arrival Delay in Minutes_group_on_time</th>\n",
       "      <th>total_delay_group_less_than_10min_late</th>\n",
       "      <th>total_delay_group_more_than_10min_late</th>\n",
       "      <th>total_delay_group_on_time</th>\n",
       "    </tr>\n",
       "  </thead>\n",
       "  <tbody>\n",
       "    <tr>\n",
       "      <th>0</th>\n",
       "      <td>0.139532</td>\n",
       "      <td>-1.747961</td>\n",
       "      <td>-0.732184</td>\n",
       "      <td>0.204090</td>\n",
       "      <td>0.617265</td>\n",
       "      <td>0.173445</td>\n",
       "      <td>-1.546267</td>\n",
       "      <td>1.349867</td>\n",
       "      <td>-0.187037</td>\n",
       "      <td>1.181428</td>\n",
       "      <td>...</td>\n",
       "      <td>0.854025</td>\n",
       "      <td>-0.448766</td>\n",
       "      <td>1.654491</td>\n",
       "      <td>-1.139204</td>\n",
       "      <td>-0.437800</td>\n",
       "      <td>1.612073</td>\n",
       "      <td>-1.131104</td>\n",
       "      <td>-0.481932</td>\n",
       "      <td>1.352592</td>\n",
       "      <td>-0.919434</td>\n",
       "    </tr>\n",
       "    <tr>\n",
       "      <th>1</th>\n",
       "      <td>-1.597453</td>\n",
       "      <td>-0.954274</td>\n",
       "      <td>-0.957760</td>\n",
       "      <td>0.204090</td>\n",
       "      <td>-0.692719</td>\n",
       "      <td>0.173445</td>\n",
       "      <td>0.018048</td>\n",
       "      <td>-1.657814</td>\n",
       "      <td>-0.187037</td>\n",
       "      <td>-1.850520</td>\n",
       "      <td>...</td>\n",
       "      <td>0.854025</td>\n",
       "      <td>2.228331</td>\n",
       "      <td>-0.604416</td>\n",
       "      <td>-1.139204</td>\n",
       "      <td>2.284147</td>\n",
       "      <td>-0.620319</td>\n",
       "      <td>-1.131104</td>\n",
       "      <td>2.074983</td>\n",
       "      <td>-0.739321</td>\n",
       "      <td>-0.919434</td>\n",
       "    </tr>\n",
       "    <tr>\n",
       "      <th>2</th>\n",
       "      <td>1.202554</td>\n",
       "      <td>-0.888133</td>\n",
       "      <td>-0.048440</td>\n",
       "      <td>-0.548166</td>\n",
       "      <td>-0.692719</td>\n",
       "      <td>-0.539957</td>\n",
       "      <td>-0.764109</td>\n",
       "      <td>1.349867</td>\n",
       "      <td>1.293662</td>\n",
       "      <td>1.181428</td>\n",
       "      <td>...</td>\n",
       "      <td>-1.170926</td>\n",
       "      <td>-0.448766</td>\n",
       "      <td>-0.604416</td>\n",
       "      <td>0.877806</td>\n",
       "      <td>-0.437800</td>\n",
       "      <td>-0.620319</td>\n",
       "      <td>0.884092</td>\n",
       "      <td>-0.481932</td>\n",
       "      <td>-0.739321</td>\n",
       "      <td>1.087626</td>\n",
       "    </tr>\n",
       "    <tr>\n",
       "      <th>3</th>\n",
       "      <td>-1.091253</td>\n",
       "      <td>-0.954274</td>\n",
       "      <td>-0.629924</td>\n",
       "      <td>-0.548166</td>\n",
       "      <td>1.272257</td>\n",
       "      <td>1.600249</td>\n",
       "      <td>1.582364</td>\n",
       "      <td>-0.905894</td>\n",
       "      <td>-0.927386</td>\n",
       "      <td>-1.092533</td>\n",
       "      <td>...</td>\n",
       "      <td>0.854025</td>\n",
       "      <td>-0.448766</td>\n",
       "      <td>1.654491</td>\n",
       "      <td>-1.139204</td>\n",
       "      <td>2.284147</td>\n",
       "      <td>-0.620319</td>\n",
       "      <td>-1.131104</td>\n",
       "      <td>-0.481932</td>\n",
       "      <td>1.352592</td>\n",
       "      <td>-0.919434</td>\n",
       "    </tr>\n",
       "    <tr>\n",
       "      <th>4</th>\n",
       "      <td>1.449826</td>\n",
       "      <td>1.426788</td>\n",
       "      <td>-0.978814</td>\n",
       "      <td>0.204090</td>\n",
       "      <td>-0.037727</td>\n",
       "      <td>0.173445</td>\n",
       "      <td>0.018048</td>\n",
       "      <td>0.597947</td>\n",
       "      <td>1.293662</td>\n",
       "      <td>1.181428</td>\n",
       "      <td>...</td>\n",
       "      <td>0.854025</td>\n",
       "      <td>-0.448766</td>\n",
       "      <td>-0.604416</td>\n",
       "      <td>0.877806</td>\n",
       "      <td>-0.437800</td>\n",
       "      <td>-0.620319</td>\n",
       "      <td>0.884092</td>\n",
       "      <td>-0.481932</td>\n",
       "      <td>-0.739321</td>\n",
       "      <td>1.087626</td>\n",
       "    </tr>\n",
       "  </tbody>\n",
       "</table>\n",
       "<p>5 rows × 45 columns</p>\n",
       "</div>"
      ],
      "text/plain": [
       "         id       Age  Flight Distance  Inflight wifi service  \\\n",
       "0  0.139532 -1.747961        -0.732184               0.204090   \n",
       "1 -1.597453 -0.954274        -0.957760               0.204090   \n",
       "2  1.202554 -0.888133        -0.048440              -0.548166   \n",
       "3 -1.091253 -0.954274        -0.629924              -0.548166   \n",
       "4  1.449826  1.426788        -0.978814               0.204090   \n",
       "\n",
       "   Departure/Arrival time convenient  Ease of Online booking  Gate location  \\\n",
       "0                           0.617265                0.173445      -1.546267   \n",
       "1                          -0.692719                0.173445       0.018048   \n",
       "2                          -0.692719               -0.539957      -0.764109   \n",
       "3                           1.272257                1.600249       1.582364   \n",
       "4                          -0.037727                0.173445       0.018048   \n",
       "\n",
       "   Food and drink  Online boarding  Seat comfort  ...  \\\n",
       "0        1.349867        -0.187037      1.181428  ...   \n",
       "1       -1.657814        -0.187037     -1.850520  ...   \n",
       "2        1.349867         1.293662      1.181428  ...   \n",
       "3       -0.905894        -0.927386     -1.092533  ...   \n",
       "4        0.597947         1.293662      1.181428  ...   \n",
       "\n",
       "   Flight Distance_group_Short-haul  \\\n",
       "0                          0.854025   \n",
       "1                          0.854025   \n",
       "2                         -1.170926   \n",
       "3                          0.854025   \n",
       "4                          0.854025   \n",
       "\n",
       "   Departure Delay in Minutes_group_less_than_10min_late  \\\n",
       "0                                          -0.448766       \n",
       "1                                           2.228331       \n",
       "2                                          -0.448766       \n",
       "3                                          -0.448766       \n",
       "4                                          -0.448766       \n",
       "\n",
       "   Departure Delay in Minutes_group_more_than_10min_late  \\\n",
       "0                                           1.654491       \n",
       "1                                          -0.604416       \n",
       "2                                          -0.604416       \n",
       "3                                           1.654491       \n",
       "4                                          -0.604416       \n",
       "\n",
       "   Departure Delay in Minutes_group_on_time  \\\n",
       "0                                 -1.139204   \n",
       "1                                 -1.139204   \n",
       "2                                  0.877806   \n",
       "3                                 -1.139204   \n",
       "4                                  0.877806   \n",
       "\n",
       "   Arrival Delay in Minutes_group_less_than_10min_late  \\\n",
       "0                                          -0.437800     \n",
       "1                                           2.284147     \n",
       "2                                          -0.437800     \n",
       "3                                           2.284147     \n",
       "4                                          -0.437800     \n",
       "\n",
       "   Arrival Delay in Minutes_group_more_than_10min_late  \\\n",
       "0                                           1.612073     \n",
       "1                                          -0.620319     \n",
       "2                                          -0.620319     \n",
       "3                                          -0.620319     \n",
       "4                                          -0.620319     \n",
       "\n",
       "   Arrival Delay in Minutes_group_on_time  \\\n",
       "0                               -1.131104   \n",
       "1                               -1.131104   \n",
       "2                                0.884092   \n",
       "3                               -1.131104   \n",
       "4                                0.884092   \n",
       "\n",
       "   total_delay_group_less_than_10min_late  \\\n",
       "0                               -0.481932   \n",
       "1                                2.074983   \n",
       "2                               -0.481932   \n",
       "3                               -0.481932   \n",
       "4                               -0.481932   \n",
       "\n",
       "   total_delay_group_more_than_10min_late  total_delay_group_on_time  \n",
       "0                                1.352592                  -0.919434  \n",
       "1                               -0.739321                  -0.919434  \n",
       "2                               -0.739321                   1.087626  \n",
       "3                                1.352592                  -0.919434  \n",
       "4                               -0.739321                   1.087626  \n",
       "\n",
       "[5 rows x 45 columns]"
      ]
     },
     "execution_count": 88,
     "metadata": {},
     "output_type": "execute_result"
    }
   ],
   "source": [
    "#quick checking\n",
    "df.head()"
   ]
  },
  {
   "cell_type": "markdown",
   "metadata": {},
   "source": [
    "## CROSS-VALIDATION\n",
    "\n",
    "We separate the dataframe back into the train and the test set.\n"
   ]
  },
  {
   "cell_type": "code",
   "execution_count": 89,
   "metadata": {},
   "outputs": [],
   "source": [
    "x_train, y_train = df.iloc[idx_train,:], y.iloc[idx_train]\n",
    "x_test, y_test = df.iloc[idx_test,:], y.iloc[idx_test]"
   ]
  },
  {
   "cell_type": "code",
   "execution_count": 90,
   "metadata": {},
   "outputs": [
    {
     "name": "stdout",
     "output_type": "stream",
     "text": [
      "x_train: (103904, 45), y_train: (103904,)\n",
      "x_test: (25976, 45), y_test: (25976,)\n"
     ]
    }
   ],
   "source": [
    "print(f'x_train: {x_train.shape}, y_train: {y_train.shape}')\n",
    "print(f'x_test: {x_test.shape}, y_test: {y_test.shape}')\n",
    "\n",
    "assert x_train.shape[0] + x_test.shape[0] == df.shape[0], 'error size df'"
   ]
  },
  {
   "cell_type": "markdown",
   "metadata": {},
   "source": [
    "## BASELINE: LOGISTIC REGRESSION"
   ]
  },
  {
   "cell_type": "code",
   "execution_count": 91,
   "metadata": {},
   "outputs": [],
   "source": [
    "from sklearn.model_selection import GridSearchCV\n",
    "from sklearn.linear_model import LogisticRegression"
   ]
  },
  {
   "cell_type": "code",
   "execution_count": 92,
   "metadata": {},
   "outputs": [
    {
     "name": "stdout",
     "output_type": "stream",
     "text": [
      "Fitting 5 folds for each of 216 candidates, totalling 1080 fits\n"
     ]
    },
    {
     "name": "stderr",
     "output_type": "stream",
     "text": [
      "[Parallel(n_jobs=-1)]: Using backend LokyBackend with 8 concurrent workers.\n",
      "[Parallel(n_jobs=-1)]: Done  34 tasks      | elapsed:   11.7s\n",
      "[Parallel(n_jobs=-1)]: Done 184 tasks      | elapsed:   55.5s\n",
      "[Parallel(n_jobs=-1)]: Done 434 tasks      | elapsed:  2.1min\n",
      "[Parallel(n_jobs=-1)]: Done 784 tasks      | elapsed:  3.9min\n",
      "[Parallel(n_jobs=-1)]: Done 1080 out of 1080 | elapsed:  5.6min finished\n",
      "c:\\users\\colab1\\miniconda3\\lib\\site-packages\\sklearn\\linear_model\\_logistic.py:1315: UserWarning: l1_ratio parameter is only used when penalty is 'elasticnet'. Got (penalty=none)\n",
      "  warnings.warn(\"l1_ratio parameter is only used when penalty is \"\n",
      "c:\\users\\colab1\\miniconda3\\lib\\site-packages\\sklearn\\linear_model\\_logistic.py:1320: UserWarning: Setting penalty='none' will ignore the C and l1_ratio parameters\n",
      "  warnings.warn(\n"
     ]
    },
    {
     "data": {
      "text/plain": [
       "GridSearchCV(cv=5, estimator=LogisticRegression(max_iter=10000), n_jobs=-1,\n",
       "             param_grid={'C': (0.001, 0.01, 0.1),\n",
       "                         'l1_ratio': array([0.1, 0.2, 0.3, 0.4, 0.5, 0.6, 0.7, 0.8]),\n",
       "                         'penalty': ('l2', 'l1', 'none'),\n",
       "                         'solver': ['newton-cg', 'lbfgs', 'sag']},\n",
       "             refit='accuracy', scoring=['accuracy'], verbose=1)"
      ]
     },
     "execution_count": 92,
     "metadata": {},
     "output_type": "execute_result"
    }
   ],
   "source": [
    "params = {\n",
    "    'penalty':('l2', 'l1', 'none'), \n",
    "    'C': (0.001, 0.01, 0.1), #the higher C, the lower the regularization\n",
    "    'solver': ['newton-cg', 'lbfgs', 'sag'],\n",
    "    'l1_ratio': np.arange(0.1,0.9,0.1)\n",
    "}\n",
    "\n",
    "lr_clf = GridSearchCV(\n",
    "    estimator = LogisticRegression(max_iter=10000),\n",
    "    param_grid = params,\n",
    "    cv = 5, #specify the number of folds in a (Stratified)KFold\n",
    "    scoring =['accuracy'],\n",
    "    refit = 'accuracy',\n",
    "    n_jobs = -1, #1 pas de parallélisation / -1 parallélisation\n",
    "    verbose=1\n",
    "    )\n",
    "\n",
    "lr_clf.fit(x_train, y_train)"
   ]
  },
  {
   "cell_type": "code",
   "execution_count": 93,
   "metadata": {},
   "outputs": [
    {
     "data": {
      "text/html": [
       "<div>\n",
       "<style scoped>\n",
       "    .dataframe tbody tr th:only-of-type {\n",
       "        vertical-align: middle;\n",
       "    }\n",
       "\n",
       "    .dataframe tbody tr th {\n",
       "        vertical-align: top;\n",
       "    }\n",
       "\n",
       "    .dataframe thead th {\n",
       "        text-align: right;\n",
       "    }\n",
       "</style>\n",
       "<table border=\"1\" class=\"dataframe\">\n",
       "  <thead>\n",
       "    <tr style=\"text-align: right;\">\n",
       "      <th></th>\n",
       "      <th>params</th>\n",
       "      <th>mean_test_accuracy</th>\n",
       "      <th>rank_test_accuracy</th>\n",
       "    </tr>\n",
       "  </thead>\n",
       "  <tbody>\n",
       "    <tr>\n",
       "      <th>107</th>\n",
       "      <td>{'C': 0.01, 'l1_ratio': 0.4, 'penalty': 'none'...</td>\n",
       "      <td>0.876357</td>\n",
       "      <td>1</td>\n",
       "    </tr>\n",
       "    <tr>\n",
       "      <th>123</th>\n",
       "      <td>{'C': 0.01, 'l1_ratio': 0.6, 'penalty': 'none'...</td>\n",
       "      <td>0.876357</td>\n",
       "      <td>1</td>\n",
       "    </tr>\n",
       "    <tr>\n",
       "      <th>116</th>\n",
       "      <td>{'C': 0.01, 'l1_ratio': 0.5, 'penalty': 'none'...</td>\n",
       "      <td>0.876357</td>\n",
       "      <td>1</td>\n",
       "    </tr>\n",
       "  </tbody>\n",
       "</table>\n",
       "</div>"
      ],
      "text/plain": [
       "                                                params  mean_test_accuracy  \\\n",
       "107  {'C': 0.01, 'l1_ratio': 0.4, 'penalty': 'none'...            0.876357   \n",
       "123  {'C': 0.01, 'l1_ratio': 0.6, 'penalty': 'none'...            0.876357   \n",
       "116  {'C': 0.01, 'l1_ratio': 0.5, 'penalty': 'none'...            0.876357   \n",
       "\n",
       "     rank_test_accuracy  \n",
       "107                   1  \n",
       "123                   1  \n",
       "116                   1  "
      ]
     },
     "execution_count": 93,
     "metadata": {},
     "output_type": "execute_result"
    }
   ],
   "source": [
    "tmp = pd.DataFrame(lr_clf.cv_results_)\n",
    "tmp.loc[:, ['params', 'mean_test_accuracy', 'rank_test_accuracy']].sort_values(by='rank_test_accuracy')[:3]"
   ]
  },
  {
   "cell_type": "code",
   "execution_count": 94,
   "metadata": {},
   "outputs": [],
   "source": [
    "tmp_bis = tmp.loc[:, ['params', 'mean_test_accuracy', 'rank_test_accuracy']].sort_values(by='rank_test_accuracy')[:3]"
   ]
  },
  {
   "cell_type": "code",
   "execution_count": 95,
   "metadata": {},
   "outputs": [
    {
     "data": {
      "text/plain": [
       "{'C': 0.01, 'l1_ratio': 0.6, 'penalty': 'none', 'solver': 'newton-cg'}"
      ]
     },
     "execution_count": 95,
     "metadata": {},
     "output_type": "execute_result"
    }
   ],
   "source": [
    "tmp_bis.iloc[1,0]"
   ]
  },
  {
   "cell_type": "code",
   "execution_count": 96,
   "metadata": {},
   "outputs": [
    {
     "name": "stdout",
     "output_type": "stream",
     "text": [
      "Best perf on test set: 0.875\n"
     ]
    }
   ],
   "source": [
    "#On obtient notre meilleur classifier pour la régression logistique :\n",
    "#{'C': 0.01, 'l1_ratio': 0.6, 'penalty': 'none', 'solver': 'newton-cg'}\n",
    "lr_clf = LogisticRegression(penalty='none', solver='newton-cg')\n",
    "lr_clf.fit(x_train, y_train)\n",
    "print('Best perf on test set:', lr_clf.score(x_test, y_test))"
   ]
  },
  {
   "cell_type": "markdown",
   "metadata": {},
   "source": [
    "## RANDOM FOREST"
   ]
  },
  {
   "cell_type": "code",
   "execution_count": 97,
   "metadata": {},
   "outputs": [],
   "source": [
    "from sklearn.ensemble import GradientBoostingClassifier, RandomForestClassifier"
   ]
  },
  {
   "cell_type": "code",
   "execution_count": 176,
   "metadata": {},
   "outputs": [],
   "source": [
    "def feature_importance(clf, x_train, y_train):\n",
    "    '''\n",
    "    plot the 10 most important features\n",
    "    '''\n",
    "    clf.fit(x_train, y_train)\n",
    "    importances = clf.feature_importances_\n",
    "    df_tmp = pd.concat([pd.Series(importances), pd.Series(x_train.columns)], axis=1)\n",
    "    df_tmp = df_tmp.sort_values(0, ascending=False)\n",
    "\n",
    "    fig, ax = plt.subplots(figsize=(14,8))\n",
    "    ax.barh(df_tmp.iloc[:15,1], df_tmp.iloc[:15,0])\n",
    "    #ax.set_title('features importance')\n",
    "    plt.savefig('images/feature_importance.png')\n",
    "    ;"
   ]
  },
  {
   "cell_type": "code",
   "execution_count": 99,
   "metadata": {},
   "outputs": [
    {
     "name": "stdout",
     "output_type": "stream",
     "text": [
      "Fitting 5 folds for each of 12 candidates, totalling 60 fits\n"
     ]
    },
    {
     "name": "stderr",
     "output_type": "stream",
     "text": [
      "[Parallel(n_jobs=-1)]: Using backend LokyBackend with 8 concurrent workers.\n",
      "[Parallel(n_jobs=-1)]: Done   2 tasks      | elapsed:   47.3s\n",
      "[Parallel(n_jobs=-1)]: Done  58 out of  60 | elapsed: 15.9min remaining:   32.8s\n",
      "[Parallel(n_jobs=-1)]: Done  60 out of  60 | elapsed: 16.3min finished\n"
     ]
    },
    {
     "data": {
      "text/plain": [
       "GridSearchCV(cv=5, estimator=RandomForestClassifier(random_state=1), n_jobs=-1,\n",
       "             param_grid={'criterion': ['entropy'], 'max_depth': [8, 16, 32, 64],\n",
       "                         'max_features': ['sqrt'],\n",
       "                         'n_estimators': [200, 400, 600]},\n",
       "             refit='accuracy', scoring='accuracy', verbose=5)"
      ]
     },
     "execution_count": 99,
     "metadata": {},
     "output_type": "execute_result"
    }
   ],
   "source": [
    "#GridSearch\n",
    "param_grid = { \n",
    "    #'bootstrap': [True, False],\n",
    "    'n_estimators': [200, 400, 600],\n",
    "    'max_features': ['sqrt'],\n",
    "    'max_depth' : [8,16,32,64],\n",
    "    'criterion' :['entropy']\n",
    "}\n",
    "\n",
    "rf_clf = GridSearchCV(estimator= RandomForestClassifier(random_state=1),\n",
    "                      param_grid=param_grid,\n",
    "                      cv= 5,\n",
    "                      verbose = 5,\n",
    "                      scoring = 'accuracy',\n",
    "                      refit = 'accuracy',\n",
    "                      n_jobs = -1)\n",
    "\n",
    "rf_clf.fit(x_train, y_train)"
   ]
  },
  {
   "cell_type": "code",
   "execution_count": 167,
   "metadata": {},
   "outputs": [
    {
     "name": "stdout",
     "output_type": "stream",
     "text": [
      "Best perf on test set:0.93\n"
     ]
    },
    {
     "data": {
      "image/png": "[encoded data removed]",
      "text/plain": [
       "<Figure size 432x288 with 2 Axes>"
      ]
     },
     "metadata": {
      "needs_background": "light"
     },
     "output_type": "display_data"
    }
   ],
   "source": [
    "#we get our best classifier for random forest:\n",
    "rf_clf = RandomForestClassifier(n_estimators = 200,\n",
    "                            max_features = 'sqrt', \n",
    "                            max_depth = 8,\n",
    "                            criterion = 'entropy', \n",
    "                            random_state = 1,\n",
    "                            verbose = 0)\n",
    "rf_clf.fit(x_train, y_train)\n",
    "\n",
    "#test performance\n",
    "print(f'Best perf on test set:{rf_clf.score(x_test, y_test):.2f}')\n",
    "\n",
    "#confusion matrix\n",
    "y_pred = rf_clf.predict(x_test)\n",
    "from scikitplot.metrics import plot_confusion_matrix\n",
    "plot_confusion_matrix(y_test, y_pred);"
   ]
  },
  {
   "cell_type": "code",
   "execution_count": 177,
   "metadata": {},
   "outputs": [
    {
     "data": {
      "image/png": "[encoded data removed]",
      "text/plain": [
       "<Figure size 1008x576 with 1 Axes>"
      ]
     },
     "metadata": {
      "needs_background": "light"
     },
     "output_type": "display_data"
    }
   ],
   "source": [
    "#Feature importance\n",
    "feature_importance(rf_clf, x_train, y_train)"
   ]
  }
 ],
 "metadata": {
  "kernelspec": {
   "display_name": "Python 3",
   "language": "python",
   "name": "python3"
  },
  "language_info": {
   "codemirror_mode": {
    "name": "ipython",
    "version": 3
   },
   "file_extension": ".py",
   "mimetype": "text/x-python",
   "name": "python",
   "nbconvert_exporter": "python",
   "pygments_lexer": "ipython3",
   "version": "3.8.3"
  }
 },
 "nbformat": 4,
 "nbformat_minor": 2
}
